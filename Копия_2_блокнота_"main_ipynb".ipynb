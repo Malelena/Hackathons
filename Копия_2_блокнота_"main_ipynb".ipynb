{
  "nbformat": 4,
  "nbformat_minor": 0,
  "metadata": {
    "colab": {
      "provenance": [],
      "collapsed_sections": [
        "yga1imVJaYE4",
        "oCWY1M1mJa7_",
        "66Vt0o350F9f"
      ]
    },
    "kernelspec": {
      "name": "python3",
      "display_name": "Python 3"
    },
    "language_info": {
      "name": "python"
    }
  },
  "cells": [
    {
      "cell_type": "markdown",
      "source": [
        "## Импорт библиотек"
      ],
      "metadata": {
        "id": "dA-5itA8afkb"
      }
    },
    {
      "cell_type": "code",
      "source": [
        "!pip install sentence_transformers\n",
        "!pip install faiss-cpu --no-cache"
      ],
      "metadata": {
        "colab": {
          "base_uri": "https://localhost:8080/"
        },
        "id": "4mjQSBLE-kC7",
        "outputId": "b38a1a36-e6e2-41a4-9959-9ae69e60424f"
      },
      "execution_count": 45,
      "outputs": [
        {
          "output_type": "stream",
          "name": "stdout",
          "text": [
            "Requirement already satisfied: sentence_transformers in /usr/local/lib/python3.10/dist-packages (2.4.0)\n",
            "Requirement already satisfied: transformers<5.0.0,>=4.32.0 in /usr/local/lib/python3.10/dist-packages (from sentence_transformers) (4.37.2)\n",
            "Requirement already satisfied: tqdm in /usr/local/lib/python3.10/dist-packages (from sentence_transformers) (4.66.2)\n",
            "Requirement already satisfied: torch>=1.11.0 in /usr/local/lib/python3.10/dist-packages (from sentence_transformers) (2.1.0+cu121)\n",
            "Requirement already satisfied: numpy in /usr/local/lib/python3.10/dist-packages (from sentence_transformers) (1.25.2)\n",
            "Requirement already satisfied: scikit-learn in /usr/local/lib/python3.10/dist-packages (from sentence_transformers) (1.2.2)\n",
            "Requirement already satisfied: scipy in /usr/local/lib/python3.10/dist-packages (from sentence_transformers) (1.11.4)\n",
            "Requirement already satisfied: huggingface-hub>=0.15.1 in /usr/local/lib/python3.10/dist-packages (from sentence_transformers) (0.20.3)\n",
            "Requirement already satisfied: Pillow in /usr/local/lib/python3.10/dist-packages (from sentence_transformers) (9.4.0)\n",
            "Requirement already satisfied: filelock in /usr/local/lib/python3.10/dist-packages (from huggingface-hub>=0.15.1->sentence_transformers) (3.13.1)\n",
            "Requirement already satisfied: fsspec>=2023.5.0 in /usr/local/lib/python3.10/dist-packages (from huggingface-hub>=0.15.1->sentence_transformers) (2023.6.0)\n",
            "Requirement already satisfied: requests in /usr/local/lib/python3.10/dist-packages (from huggingface-hub>=0.15.1->sentence_transformers) (2.31.0)\n",
            "Requirement already satisfied: pyyaml>=5.1 in /usr/local/lib/python3.10/dist-packages (from huggingface-hub>=0.15.1->sentence_transformers) (6.0.1)\n",
            "Requirement already satisfied: typing-extensions>=3.7.4.3 in /usr/local/lib/python3.10/dist-packages (from huggingface-hub>=0.15.1->sentence_transformers) (4.9.0)\n",
            "Requirement already satisfied: packaging>=20.9 in /usr/local/lib/python3.10/dist-packages (from huggingface-hub>=0.15.1->sentence_transformers) (23.2)\n",
            "Requirement already satisfied: sympy in /usr/local/lib/python3.10/dist-packages (from torch>=1.11.0->sentence_transformers) (1.12)\n",
            "Requirement already satisfied: networkx in /usr/local/lib/python3.10/dist-packages (from torch>=1.11.0->sentence_transformers) (3.2.1)\n",
            "Requirement already satisfied: jinja2 in /usr/local/lib/python3.10/dist-packages (from torch>=1.11.0->sentence_transformers) (3.1.3)\n",
            "Requirement already satisfied: triton==2.1.0 in /usr/local/lib/python3.10/dist-packages (from torch>=1.11.0->sentence_transformers) (2.1.0)\n",
            "Requirement already satisfied: regex!=2019.12.17 in /usr/local/lib/python3.10/dist-packages (from transformers<5.0.0,>=4.32.0->sentence_transformers) (2023.12.25)\n",
            "Requirement already satisfied: tokenizers<0.19,>=0.14 in /usr/local/lib/python3.10/dist-packages (from transformers<5.0.0,>=4.32.0->sentence_transformers) (0.15.2)\n",
            "Requirement already satisfied: safetensors>=0.4.1 in /usr/local/lib/python3.10/dist-packages (from transformers<5.0.0,>=4.32.0->sentence_transformers) (0.4.2)\n",
            "Requirement already satisfied: joblib>=1.1.1 in /usr/local/lib/python3.10/dist-packages (from scikit-learn->sentence_transformers) (1.3.2)\n",
            "Requirement already satisfied: threadpoolctl>=2.0.0 in /usr/local/lib/python3.10/dist-packages (from scikit-learn->sentence_transformers) (3.3.0)\n",
            "Requirement already satisfied: MarkupSafe>=2.0 in /usr/local/lib/python3.10/dist-packages (from jinja2->torch>=1.11.0->sentence_transformers) (2.1.5)\n",
            "Requirement already satisfied: charset-normalizer<4,>=2 in /usr/local/lib/python3.10/dist-packages (from requests->huggingface-hub>=0.15.1->sentence_transformers) (3.3.2)\n",
            "Requirement already satisfied: idna<4,>=2.5 in /usr/local/lib/python3.10/dist-packages (from requests->huggingface-hub>=0.15.1->sentence_transformers) (3.6)\n",
            "Requirement already satisfied: urllib3<3,>=1.21.1 in /usr/local/lib/python3.10/dist-packages (from requests->huggingface-hub>=0.15.1->sentence_transformers) (2.0.7)\n",
            "Requirement already satisfied: certifi>=2017.4.17 in /usr/local/lib/python3.10/dist-packages (from requests->huggingface-hub>=0.15.1->sentence_transformers) (2024.2.2)\n",
            "Requirement already satisfied: mpmath>=0.19 in /usr/local/lib/python3.10/dist-packages (from sympy->torch>=1.11.0->sentence_transformers) (1.3.0)\n",
            "Requirement already satisfied: faiss-cpu in /usr/local/lib/python3.10/dist-packages (1.7.4)\n"
          ]
        }
      ]
    },
    {
      "cell_type": "code",
      "source": [
        "import pandas as pd\n",
        "import numpy as np\n",
        "import matplotlib.pyplot as plt\n",
        "import seaborn as sns\n",
        "import torch\n",
        "import re\n",
        "import string\n",
        "import faiss\n",
        "import nltk\n",
        "nltk.download('stopwords')\n",
        "stop_words = nltk.corpus.stopwords.words('russian')\n",
        "\n",
        "from sentence_transformers import SentenceTransformer, util\n",
        "from typing import List\n",
        "from tqdm import tqdm\n",
        "from math import log"
      ],
      "metadata": {
        "id": "TcS5YIP9a-kT",
        "colab": {
          "base_uri": "https://localhost:8080/"
        },
        "outputId": "e8e3fbe6-e1e9-4a1b-8d26-a02a99d8cc63"
      },
      "execution_count": 46,
      "outputs": [
        {
          "output_type": "stream",
          "name": "stderr",
          "text": [
            "[nltk_data] Downloading package stopwords to /root/nltk_data...\n",
            "[nltk_data]   Package stopwords is already up-to-date!\n"
          ]
        }
      ]
    },
    {
      "cell_type": "markdown",
      "source": [
        "## Загрузка данных"
      ],
      "metadata": {
        "id": "yga1imVJaYE4"
      }
    },
    {
      "cell_type": "code",
      "source": [
        "try:\n",
        "    marketing_productdealerkey = pd.read_csv('data/marketing_productdealerkey.csv', sep=';', quotechar='\"', index_col ='id')\n",
        "    marketing_product = pd.read_csv('data/marketing_product.csv', sep=';', index_col=0)\n",
        "    marketing_dealerprice = pd.read_csv('data/marketing_dealerprice.csv', sep=';', index_col ='id')\n",
        "    marketing_dealer = pd.read_csv('data/marketing_dealer.csv', sep=';')\n",
        "except:\n",
        "    from google.colab import drive\n",
        "    drive.mount('/content/drive')\n",
        "    DIR = '/content/drive/MyDrive/Projects'\n",
        "    marketing_productdealerkey = pd.read_csv(f'{DIR}/Prosept/datasets/marketing_productdealerkey.csv', sep=';', quotechar='\"', index_col ='id')\n",
        "    marketing_product = pd.read_csv(f'{DIR}/Prosept/datasets/marketing_product.csv', sep=';', index_col=0)\n",
        "    marketing_dealerprice = pd.read_csv(f'{DIR}/Prosept/datasets/marketing_dealerprice.csv', sep=';', index_col ='id')\n",
        "    marketing_dealer = pd.read_csv(f'{DIR}/Prosept/datasets/marketing_dealer.csv', sep=';')"
      ],
      "metadata": {
        "id": "9lvtg_j4abCz",
        "colab": {
          "base_uri": "https://localhost:8080/"
        },
        "outputId": "4b3e05d6-e35e-40ce-fdef-6f5f3dd72954"
      },
      "execution_count": 47,
      "outputs": [
        {
          "output_type": "stream",
          "name": "stdout",
          "text": [
            "Drive already mounted at /content/drive; to attempt to forcibly remount, call drive.mount(\"/content/drive\", force_remount=True).\n"
          ]
        }
      ]
    },
    {
      "cell_type": "markdown",
      "source": [
        "## Обзор данных"
      ],
      "metadata": {
        "id": "oCWY1M1mJa7_"
      }
    },
    {
      "cell_type": "code",
      "source": [
        "# Функция для отображения первых 10 строк данных и получения общей информации о DataFrame\n",
        "def display_and_info(df):\n",
        "    display(df.head(10))\n",
        "    print(df.info())\n",
        "    print(df.isna().sum())\n",
        "    print('Количество дубликатов:', df.duplicated().sum())"
      ],
      "metadata": {
        "id": "L2to3kytLPgZ"
      },
      "execution_count": 48,
      "outputs": []
    },
    {
      "cell_type": "markdown",
      "source": [
        "### marketing_dealerprice (результат работы парсера площадок дилеров)"
      ],
      "metadata": {
        "id": "ORT56juO5Pe7"
      }
    },
    {
      "cell_type": "markdown",
      "source": [
        "*\tproduct_key - уникальный номер позиции;\n",
        "*\tprice - цена;\n",
        "*\tproduct_url - адрес страницы, откуда собраны данные;\n",
        "*\tproduct_name - заголовок продаваемого товара;\n",
        "*\tdate - дата получения информации;\n",
        "*\tdealer_id - идентификатор дилера (внешний ключ к marketing_dealer)\n"
      ],
      "metadata": {
        "id": "T7cthQ0u5pIv"
      }
    },
    {
      "cell_type": "code",
      "source": [
        "display_and_info(marketing_dealerprice)"
      ],
      "metadata": {
        "id": "RgCuBop0MV0b",
        "colab": {
          "base_uri": "https://localhost:8080/",
          "height": 0
        },
        "outputId": "e8a5fb68-fece-44b5-df05-321a3faf913d"
      },
      "execution_count": 49,
      "outputs": [
        {
          "output_type": "display_data",
          "data": {
            "text/plain": [
              "   product_key   price                                        product_url  \\\n",
              "id                                                                          \n",
              "2       546227   233.0  https://akson.ru//p/sredstvo_universalnoe_pros...   \n",
              "3       546408   175.0  https://akson.ru//p/kontsentrat_prosept_multip...   \n",
              "4       546234   285.0  https://akson.ru//p/sredstvo_dlya_chistki_lyus...   \n",
              "5       651258   362.0  https://akson.ru//p/udalitel_rzhavchiny_prosep...   \n",
              "6       546355   205.0  https://akson.ru//p/sredstvo_moyushchee_dlya_b...   \n",
              "7       831859   370.0  https://akson.ru//p/propitka_prosept_aquaisol_...   \n",
              "8       546406   235.0  https://akson.ru//p/sredstvo_dlya_mytya_plitki...   \n",
              "9       831858  1648.0  https://akson.ru//p/propitka_prosept_aquaisol_...   \n",
              "10      857015   371.0  https://akson.ru//p/shpatlevka_zamazka_prosept...   \n",
              "11      651265   235.0  https://akson.ru//p/sol_dlya_posudomoechnykh_m...   \n",
              "\n",
              "                                         product_name        date  dealer_id  \n",
              "id                                                                            \n",
              "2   Средство универсальное Prosept Universal Spray...  2023-07-11          2  \n",
              "3   Концентрат Prosept Multipower для мытья полов,...  2023-07-11          2  \n",
              "4   Средство для чистки люстр Prosept Universal An...  2023-07-11          2  \n",
              "5   Удалитель ржавчины PROSEPT RUST REMOVER 0,5л 0...  2023-07-11          2  \n",
              "6   Средство моющее для бани и сауны Prosept Multi...  2023-07-11          2  \n",
              "7   Пропитка PROSEPT Aquaisol для камня, концентра...  2023-07-11          2  \n",
              "8   Средство для мытья плитки и керамогранита Pros...  2023-07-11          2  \n",
              "9   Пропитка PROSEPT Aquaisol для камня, концентра...  2023-07-11          2  \n",
              "10  Шпаклевка выравнивающая акриловая PROSEPT Plas...  2023-07-11          2  \n",
              "11  Соль для посудомоечных машин PROSEPT Splash 1,...  2023-07-11          2  "
            ],
            "text/html": [
              "\n",
              "  <div id=\"df-7cd64bef-f5f6-405c-ad0f-3778b66d2871\" class=\"colab-df-container\">\n",
              "    <div>\n",
              "<style scoped>\n",
              "    .dataframe tbody tr th:only-of-type {\n",
              "        vertical-align: middle;\n",
              "    }\n",
              "\n",
              "    .dataframe tbody tr th {\n",
              "        vertical-align: top;\n",
              "    }\n",
              "\n",
              "    .dataframe thead th {\n",
              "        text-align: right;\n",
              "    }\n",
              "</style>\n",
              "<table border=\"1\" class=\"dataframe\">\n",
              "  <thead>\n",
              "    <tr style=\"text-align: right;\">\n",
              "      <th></th>\n",
              "      <th>product_key</th>\n",
              "      <th>price</th>\n",
              "      <th>product_url</th>\n",
              "      <th>product_name</th>\n",
              "      <th>date</th>\n",
              "      <th>dealer_id</th>\n",
              "    </tr>\n",
              "    <tr>\n",
              "      <th>id</th>\n",
              "      <th></th>\n",
              "      <th></th>\n",
              "      <th></th>\n",
              "      <th></th>\n",
              "      <th></th>\n",
              "      <th></th>\n",
              "    </tr>\n",
              "  </thead>\n",
              "  <tbody>\n",
              "    <tr>\n",
              "      <th>2</th>\n",
              "      <td>546227</td>\n",
              "      <td>233.0</td>\n",
              "      <td>https://akson.ru//p/sredstvo_universalnoe_pros...</td>\n",
              "      <td>Средство универсальное Prosept Universal Spray...</td>\n",
              "      <td>2023-07-11</td>\n",
              "      <td>2</td>\n",
              "    </tr>\n",
              "    <tr>\n",
              "      <th>3</th>\n",
              "      <td>546408</td>\n",
              "      <td>175.0</td>\n",
              "      <td>https://akson.ru//p/kontsentrat_prosept_multip...</td>\n",
              "      <td>Концентрат Prosept Multipower для мытья полов,...</td>\n",
              "      <td>2023-07-11</td>\n",
              "      <td>2</td>\n",
              "    </tr>\n",
              "    <tr>\n",
              "      <th>4</th>\n",
              "      <td>546234</td>\n",
              "      <td>285.0</td>\n",
              "      <td>https://akson.ru//p/sredstvo_dlya_chistki_lyus...</td>\n",
              "      <td>Средство для чистки люстр Prosept Universal An...</td>\n",
              "      <td>2023-07-11</td>\n",
              "      <td>2</td>\n",
              "    </tr>\n",
              "    <tr>\n",
              "      <th>5</th>\n",
              "      <td>651258</td>\n",
              "      <td>362.0</td>\n",
              "      <td>https://akson.ru//p/udalitel_rzhavchiny_prosep...</td>\n",
              "      <td>Удалитель ржавчины PROSEPT RUST REMOVER 0,5л 0...</td>\n",
              "      <td>2023-07-11</td>\n",
              "      <td>2</td>\n",
              "    </tr>\n",
              "    <tr>\n",
              "      <th>6</th>\n",
              "      <td>546355</td>\n",
              "      <td>205.0</td>\n",
              "      <td>https://akson.ru//p/sredstvo_moyushchee_dlya_b...</td>\n",
              "      <td>Средство моющее для бани и сауны Prosept Multi...</td>\n",
              "      <td>2023-07-11</td>\n",
              "      <td>2</td>\n",
              "    </tr>\n",
              "    <tr>\n",
              "      <th>7</th>\n",
              "      <td>831859</td>\n",
              "      <td>370.0</td>\n",
              "      <td>https://akson.ru//p/propitka_prosept_aquaisol_...</td>\n",
              "      <td>Пропитка PROSEPT Aquaisol для камня, концентра...</td>\n",
              "      <td>2023-07-11</td>\n",
              "      <td>2</td>\n",
              "    </tr>\n",
              "    <tr>\n",
              "      <th>8</th>\n",
              "      <td>546406</td>\n",
              "      <td>235.0</td>\n",
              "      <td>https://akson.ru//p/sredstvo_dlya_mytya_plitki...</td>\n",
              "      <td>Средство для мытья плитки и керамогранита Pros...</td>\n",
              "      <td>2023-07-11</td>\n",
              "      <td>2</td>\n",
              "    </tr>\n",
              "    <tr>\n",
              "      <th>9</th>\n",
              "      <td>831858</td>\n",
              "      <td>1648.0</td>\n",
              "      <td>https://akson.ru//p/propitka_prosept_aquaisol_...</td>\n",
              "      <td>Пропитка PROSEPT Aquaisol для камня, концентра...</td>\n",
              "      <td>2023-07-11</td>\n",
              "      <td>2</td>\n",
              "    </tr>\n",
              "    <tr>\n",
              "      <th>10</th>\n",
              "      <td>857015</td>\n",
              "      <td>371.0</td>\n",
              "      <td>https://akson.ru//p/shpatlevka_zamazka_prosept...</td>\n",
              "      <td>Шпаклевка выравнивающая акриловая PROSEPT Plas...</td>\n",
              "      <td>2023-07-11</td>\n",
              "      <td>2</td>\n",
              "    </tr>\n",
              "    <tr>\n",
              "      <th>11</th>\n",
              "      <td>651265</td>\n",
              "      <td>235.0</td>\n",
              "      <td>https://akson.ru//p/sol_dlya_posudomoechnykh_m...</td>\n",
              "      <td>Соль для посудомоечных машин PROSEPT Splash 1,...</td>\n",
              "      <td>2023-07-11</td>\n",
              "      <td>2</td>\n",
              "    </tr>\n",
              "  </tbody>\n",
              "</table>\n",
              "</div>\n",
              "    <div class=\"colab-df-buttons\">\n",
              "\n",
              "  <div class=\"colab-df-container\">\n",
              "    <button class=\"colab-df-convert\" onclick=\"convertToInteractive('df-7cd64bef-f5f6-405c-ad0f-3778b66d2871')\"\n",
              "            title=\"Convert this dataframe to an interactive table.\"\n",
              "            style=\"display:none;\">\n",
              "\n",
              "  <svg xmlns=\"http://www.w3.org/2000/svg\" height=\"24px\" viewBox=\"0 -960 960 960\">\n",
              "    <path d=\"M120-120v-720h720v720H120Zm60-500h600v-160H180v160Zm220 220h160v-160H400v160Zm0 220h160v-160H400v160ZM180-400h160v-160H180v160Zm440 0h160v-160H620v160ZM180-180h160v-160H180v160Zm440 0h160v-160H620v160Z\"/>\n",
              "  </svg>\n",
              "    </button>\n",
              "\n",
              "  <style>\n",
              "    .colab-df-container {\n",
              "      display:flex;\n",
              "      gap: 12px;\n",
              "    }\n",
              "\n",
              "    .colab-df-convert {\n",
              "      background-color: #E8F0FE;\n",
              "      border: none;\n",
              "      border-radius: 50%;\n",
              "      cursor: pointer;\n",
              "      display: none;\n",
              "      fill: #1967D2;\n",
              "      height: 32px;\n",
              "      padding: 0 0 0 0;\n",
              "      width: 32px;\n",
              "    }\n",
              "\n",
              "    .colab-df-convert:hover {\n",
              "      background-color: #E2EBFA;\n",
              "      box-shadow: 0px 1px 2px rgba(60, 64, 67, 0.3), 0px 1px 3px 1px rgba(60, 64, 67, 0.15);\n",
              "      fill: #174EA6;\n",
              "    }\n",
              "\n",
              "    .colab-df-buttons div {\n",
              "      margin-bottom: 4px;\n",
              "    }\n",
              "\n",
              "    [theme=dark] .colab-df-convert {\n",
              "      background-color: #3B4455;\n",
              "      fill: #D2E3FC;\n",
              "    }\n",
              "\n",
              "    [theme=dark] .colab-df-convert:hover {\n",
              "      background-color: #434B5C;\n",
              "      box-shadow: 0px 1px 3px 1px rgba(0, 0, 0, 0.15);\n",
              "      filter: drop-shadow(0px 1px 2px rgba(0, 0, 0, 0.3));\n",
              "      fill: #FFFFFF;\n",
              "    }\n",
              "  </style>\n",
              "\n",
              "    <script>\n",
              "      const buttonEl =\n",
              "        document.querySelector('#df-7cd64bef-f5f6-405c-ad0f-3778b66d2871 button.colab-df-convert');\n",
              "      buttonEl.style.display =\n",
              "        google.colab.kernel.accessAllowed ? 'block' : 'none';\n",
              "\n",
              "      async function convertToInteractive(key) {\n",
              "        const element = document.querySelector('#df-7cd64bef-f5f6-405c-ad0f-3778b66d2871');\n",
              "        const dataTable =\n",
              "          await google.colab.kernel.invokeFunction('convertToInteractive',\n",
              "                                                    [key], {});\n",
              "        if (!dataTable) return;\n",
              "\n",
              "        const docLinkHtml = 'Like what you see? Visit the ' +\n",
              "          '<a target=\"_blank\" href=https://colab.research.google.com/notebooks/data_table.ipynb>data table notebook</a>'\n",
              "          + ' to learn more about interactive tables.';\n",
              "        element.innerHTML = '';\n",
              "        dataTable['output_type'] = 'display_data';\n",
              "        await google.colab.output.renderOutput(dataTable, element);\n",
              "        const docLink = document.createElement('div');\n",
              "        docLink.innerHTML = docLinkHtml;\n",
              "        element.appendChild(docLink);\n",
              "      }\n",
              "    </script>\n",
              "  </div>\n",
              "\n",
              "\n",
              "<div id=\"df-8e9f47ba-8b45-4f77-b963-2c3ec9c92c62\">\n",
              "  <button class=\"colab-df-quickchart\" onclick=\"quickchart('df-8e9f47ba-8b45-4f77-b963-2c3ec9c92c62')\"\n",
              "            title=\"Suggest charts\"\n",
              "            style=\"display:none;\">\n",
              "\n",
              "<svg xmlns=\"http://www.w3.org/2000/svg\" height=\"24px\"viewBox=\"0 0 24 24\"\n",
              "     width=\"24px\">\n",
              "    <g>\n",
              "        <path d=\"M19 3H5c-1.1 0-2 .9-2 2v14c0 1.1.9 2 2 2h14c1.1 0 2-.9 2-2V5c0-1.1-.9-2-2-2zM9 17H7v-7h2v7zm4 0h-2V7h2v10zm4 0h-2v-4h2v4z\"/>\n",
              "    </g>\n",
              "</svg>\n",
              "  </button>\n",
              "\n",
              "<style>\n",
              "  .colab-df-quickchart {\n",
              "      --bg-color: #E8F0FE;\n",
              "      --fill-color: #1967D2;\n",
              "      --hover-bg-color: #E2EBFA;\n",
              "      --hover-fill-color: #174EA6;\n",
              "      --disabled-fill-color: #AAA;\n",
              "      --disabled-bg-color: #DDD;\n",
              "  }\n",
              "\n",
              "  [theme=dark] .colab-df-quickchart {\n",
              "      --bg-color: #3B4455;\n",
              "      --fill-color: #D2E3FC;\n",
              "      --hover-bg-color: #434B5C;\n",
              "      --hover-fill-color: #FFFFFF;\n",
              "      --disabled-bg-color: #3B4455;\n",
              "      --disabled-fill-color: #666;\n",
              "  }\n",
              "\n",
              "  .colab-df-quickchart {\n",
              "    background-color: var(--bg-color);\n",
              "    border: none;\n",
              "    border-radius: 50%;\n",
              "    cursor: pointer;\n",
              "    display: none;\n",
              "    fill: var(--fill-color);\n",
              "    height: 32px;\n",
              "    padding: 0;\n",
              "    width: 32px;\n",
              "  }\n",
              "\n",
              "  .colab-df-quickchart:hover {\n",
              "    background-color: var(--hover-bg-color);\n",
              "    box-shadow: 0 1px 2px rgba(60, 64, 67, 0.3), 0 1px 3px 1px rgba(60, 64, 67, 0.15);\n",
              "    fill: var(--button-hover-fill-color);\n",
              "  }\n",
              "\n",
              "  .colab-df-quickchart-complete:disabled,\n",
              "  .colab-df-quickchart-complete:disabled:hover {\n",
              "    background-color: var(--disabled-bg-color);\n",
              "    fill: var(--disabled-fill-color);\n",
              "    box-shadow: none;\n",
              "  }\n",
              "\n",
              "  .colab-df-spinner {\n",
              "    border: 2px solid var(--fill-color);\n",
              "    border-color: transparent;\n",
              "    border-bottom-color: var(--fill-color);\n",
              "    animation:\n",
              "      spin 1s steps(1) infinite;\n",
              "  }\n",
              "\n",
              "  @keyframes spin {\n",
              "    0% {\n",
              "      border-color: transparent;\n",
              "      border-bottom-color: var(--fill-color);\n",
              "      border-left-color: var(--fill-color);\n",
              "    }\n",
              "    20% {\n",
              "      border-color: transparent;\n",
              "      border-left-color: var(--fill-color);\n",
              "      border-top-color: var(--fill-color);\n",
              "    }\n",
              "    30% {\n",
              "      border-color: transparent;\n",
              "      border-left-color: var(--fill-color);\n",
              "      border-top-color: var(--fill-color);\n",
              "      border-right-color: var(--fill-color);\n",
              "    }\n",
              "    40% {\n",
              "      border-color: transparent;\n",
              "      border-right-color: var(--fill-color);\n",
              "      border-top-color: var(--fill-color);\n",
              "    }\n",
              "    60% {\n",
              "      border-color: transparent;\n",
              "      border-right-color: var(--fill-color);\n",
              "    }\n",
              "    80% {\n",
              "      border-color: transparent;\n",
              "      border-right-color: var(--fill-color);\n",
              "      border-bottom-color: var(--fill-color);\n",
              "    }\n",
              "    90% {\n",
              "      border-color: transparent;\n",
              "      border-bottom-color: var(--fill-color);\n",
              "    }\n",
              "  }\n",
              "</style>\n",
              "\n",
              "  <script>\n",
              "    async function quickchart(key) {\n",
              "      const quickchartButtonEl =\n",
              "        document.querySelector('#' + key + ' button');\n",
              "      quickchartButtonEl.disabled = true;  // To prevent multiple clicks.\n",
              "      quickchartButtonEl.classList.add('colab-df-spinner');\n",
              "      try {\n",
              "        const charts = await google.colab.kernel.invokeFunction(\n",
              "            'suggestCharts', [key], {});\n",
              "      } catch (error) {\n",
              "        console.error('Error during call to suggestCharts:', error);\n",
              "      }\n",
              "      quickchartButtonEl.classList.remove('colab-df-spinner');\n",
              "      quickchartButtonEl.classList.add('colab-df-quickchart-complete');\n",
              "    }\n",
              "    (() => {\n",
              "      let quickchartButtonEl =\n",
              "        document.querySelector('#df-8e9f47ba-8b45-4f77-b963-2c3ec9c92c62 button');\n",
              "      quickchartButtonEl.style.display =\n",
              "        google.colab.kernel.accessAllowed ? 'block' : 'none';\n",
              "    })();\n",
              "  </script>\n",
              "</div>\n",
              "    </div>\n",
              "  </div>\n"
            ],
            "application/vnd.google.colaboratory.intrinsic+json": {
              "type": "dataframe",
              "repr_error": "'str' object has no attribute 'empty'"
            }
          },
          "metadata": {}
        },
        {
          "output_type": "stream",
          "name": "stdout",
          "text": [
            "<class 'pandas.core.frame.DataFrame'>\n",
            "Int64Index: 20416 entries, 2 to 20570\n",
            "Data columns (total 6 columns):\n",
            " #   Column        Non-Null Count  Dtype  \n",
            "---  ------        --------------  -----  \n",
            " 0   product_key   20416 non-null  object \n",
            " 1   price         20416 non-null  float64\n",
            " 2   product_url   20182 non-null  object \n",
            " 3   product_name  20416 non-null  object \n",
            " 4   date          20416 non-null  object \n",
            " 5   dealer_id     20416 non-null  int64  \n",
            "dtypes: float64(1), int64(1), object(4)\n",
            "memory usage: 1.1+ MB\n",
            "None\n",
            "product_key       0\n",
            "price             0\n",
            "product_url     234\n",
            "product_name      0\n",
            "date              0\n",
            "dealer_id         0\n",
            "dtype: int64\n",
            "Количество дубликатов: 726\n"
          ]
        }
      ]
    },
    {
      "cell_type": "code",
      "source": [
        "# Преобразование столбца 'date' в тип данных datetime\n",
        "\n",
        "marketing_dealerprice['date'] = pd.to_datetime(marketing_dealerprice['date'])"
      ],
      "metadata": {
        "id": "ImExHWac7qT9"
      },
      "execution_count": 50,
      "outputs": []
    },
    {
      "cell_type": "markdown",
      "source": [
        "* В качестве запроса для модели будет использоваться колонка product_name.\n",
        "* У дилера 6 названия без пробелов.\n",
        "* Присутствуют дубликаты."
      ],
      "metadata": {
        "id": "wv-OPjzESIEo"
      }
    },
    {
      "cell_type": "markdown",
      "source": [
        "### marketing_dealer (список дилеров)"
      ],
      "metadata": {
        "id": "hrPHSm3x5ERN"
      }
    },
    {
      "cell_type": "code",
      "source": [
        "display_and_info(marketing_dealer)"
      ],
      "metadata": {
        "id": "5kBx28PrM861",
        "colab": {
          "base_uri": "https://localhost:8080/",
          "height": 0
        },
        "outputId": "5bbc1db0-d14d-4cc2-86e4-1486a5e98cd3"
      },
      "execution_count": 51,
      "outputs": [
        {
          "output_type": "display_data",
          "data": {
            "text/plain": [
              "   id          name\n",
              "0   1  Moi_vibor_WB\n",
              "1   2         Akson\n",
              "2   3         Bafus\n",
              "3   5     Castorama\n",
              "4   6      Cubatora\n",
              "5   7         Komus\n",
              "6   9     Megastroy\n",
              "7  10   OnlineTrade\n",
              "8  11     Petrovich\n",
              "9  12         sdvor"
            ],
            "text/html": [
              "\n",
              "  <div id=\"df-afcecd78-e8c7-4972-90c0-ff39c384fd96\" class=\"colab-df-container\">\n",
              "    <div>\n",
              "<style scoped>\n",
              "    .dataframe tbody tr th:only-of-type {\n",
              "        vertical-align: middle;\n",
              "    }\n",
              "\n",
              "    .dataframe tbody tr th {\n",
              "        vertical-align: top;\n",
              "    }\n",
              "\n",
              "    .dataframe thead th {\n",
              "        text-align: right;\n",
              "    }\n",
              "</style>\n",
              "<table border=\"1\" class=\"dataframe\">\n",
              "  <thead>\n",
              "    <tr style=\"text-align: right;\">\n",
              "      <th></th>\n",
              "      <th>id</th>\n",
              "      <th>name</th>\n",
              "    </tr>\n",
              "  </thead>\n",
              "  <tbody>\n",
              "    <tr>\n",
              "      <th>0</th>\n",
              "      <td>1</td>\n",
              "      <td>Moi_vibor_WB</td>\n",
              "    </tr>\n",
              "    <tr>\n",
              "      <th>1</th>\n",
              "      <td>2</td>\n",
              "      <td>Akson</td>\n",
              "    </tr>\n",
              "    <tr>\n",
              "      <th>2</th>\n",
              "      <td>3</td>\n",
              "      <td>Bafus</td>\n",
              "    </tr>\n",
              "    <tr>\n",
              "      <th>3</th>\n",
              "      <td>5</td>\n",
              "      <td>Castorama</td>\n",
              "    </tr>\n",
              "    <tr>\n",
              "      <th>4</th>\n",
              "      <td>6</td>\n",
              "      <td>Cubatora</td>\n",
              "    </tr>\n",
              "    <tr>\n",
              "      <th>5</th>\n",
              "      <td>7</td>\n",
              "      <td>Komus</td>\n",
              "    </tr>\n",
              "    <tr>\n",
              "      <th>6</th>\n",
              "      <td>9</td>\n",
              "      <td>Megastroy</td>\n",
              "    </tr>\n",
              "    <tr>\n",
              "      <th>7</th>\n",
              "      <td>10</td>\n",
              "      <td>OnlineTrade</td>\n",
              "    </tr>\n",
              "    <tr>\n",
              "      <th>8</th>\n",
              "      <td>11</td>\n",
              "      <td>Petrovich</td>\n",
              "    </tr>\n",
              "    <tr>\n",
              "      <th>9</th>\n",
              "      <td>12</td>\n",
              "      <td>sdvor</td>\n",
              "    </tr>\n",
              "  </tbody>\n",
              "</table>\n",
              "</div>\n",
              "    <div class=\"colab-df-buttons\">\n",
              "\n",
              "  <div class=\"colab-df-container\">\n",
              "    <button class=\"colab-df-convert\" onclick=\"convertToInteractive('df-afcecd78-e8c7-4972-90c0-ff39c384fd96')\"\n",
              "            title=\"Convert this dataframe to an interactive table.\"\n",
              "            style=\"display:none;\">\n",
              "\n",
              "  <svg xmlns=\"http://www.w3.org/2000/svg\" height=\"24px\" viewBox=\"0 -960 960 960\">\n",
              "    <path d=\"M120-120v-720h720v720H120Zm60-500h600v-160H180v160Zm220 220h160v-160H400v160Zm0 220h160v-160H400v160ZM180-400h160v-160H180v160Zm440 0h160v-160H620v160ZM180-180h160v-160H180v160Zm440 0h160v-160H620v160Z\"/>\n",
              "  </svg>\n",
              "    </button>\n",
              "\n",
              "  <style>\n",
              "    .colab-df-container {\n",
              "      display:flex;\n",
              "      gap: 12px;\n",
              "    }\n",
              "\n",
              "    .colab-df-convert {\n",
              "      background-color: #E8F0FE;\n",
              "      border: none;\n",
              "      border-radius: 50%;\n",
              "      cursor: pointer;\n",
              "      display: none;\n",
              "      fill: #1967D2;\n",
              "      height: 32px;\n",
              "      padding: 0 0 0 0;\n",
              "      width: 32px;\n",
              "    }\n",
              "\n",
              "    .colab-df-convert:hover {\n",
              "      background-color: #E2EBFA;\n",
              "      box-shadow: 0px 1px 2px rgba(60, 64, 67, 0.3), 0px 1px 3px 1px rgba(60, 64, 67, 0.15);\n",
              "      fill: #174EA6;\n",
              "    }\n",
              "\n",
              "    .colab-df-buttons div {\n",
              "      margin-bottom: 4px;\n",
              "    }\n",
              "\n",
              "    [theme=dark] .colab-df-convert {\n",
              "      background-color: #3B4455;\n",
              "      fill: #D2E3FC;\n",
              "    }\n",
              "\n",
              "    [theme=dark] .colab-df-convert:hover {\n",
              "      background-color: #434B5C;\n",
              "      box-shadow: 0px 1px 3px 1px rgba(0, 0, 0, 0.15);\n",
              "      filter: drop-shadow(0px 1px 2px rgba(0, 0, 0, 0.3));\n",
              "      fill: #FFFFFF;\n",
              "    }\n",
              "  </style>\n",
              "\n",
              "    <script>\n",
              "      const buttonEl =\n",
              "        document.querySelector('#df-afcecd78-e8c7-4972-90c0-ff39c384fd96 button.colab-df-convert');\n",
              "      buttonEl.style.display =\n",
              "        google.colab.kernel.accessAllowed ? 'block' : 'none';\n",
              "\n",
              "      async function convertToInteractive(key) {\n",
              "        const element = document.querySelector('#df-afcecd78-e8c7-4972-90c0-ff39c384fd96');\n",
              "        const dataTable =\n",
              "          await google.colab.kernel.invokeFunction('convertToInteractive',\n",
              "                                                    [key], {});\n",
              "        if (!dataTable) return;\n",
              "\n",
              "        const docLinkHtml = 'Like what you see? Visit the ' +\n",
              "          '<a target=\"_blank\" href=https://colab.research.google.com/notebooks/data_table.ipynb>data table notebook</a>'\n",
              "          + ' to learn more about interactive tables.';\n",
              "        element.innerHTML = '';\n",
              "        dataTable['output_type'] = 'display_data';\n",
              "        await google.colab.output.renderOutput(dataTable, element);\n",
              "        const docLink = document.createElement('div');\n",
              "        docLink.innerHTML = docLinkHtml;\n",
              "        element.appendChild(docLink);\n",
              "      }\n",
              "    </script>\n",
              "  </div>\n",
              "\n",
              "\n",
              "<div id=\"df-bc599b2f-9855-48cf-ac36-21c20b8b6cea\">\n",
              "  <button class=\"colab-df-quickchart\" onclick=\"quickchart('df-bc599b2f-9855-48cf-ac36-21c20b8b6cea')\"\n",
              "            title=\"Suggest charts\"\n",
              "            style=\"display:none;\">\n",
              "\n",
              "<svg xmlns=\"http://www.w3.org/2000/svg\" height=\"24px\"viewBox=\"0 0 24 24\"\n",
              "     width=\"24px\">\n",
              "    <g>\n",
              "        <path d=\"M19 3H5c-1.1 0-2 .9-2 2v14c0 1.1.9 2 2 2h14c1.1 0 2-.9 2-2V5c0-1.1-.9-2-2-2zM9 17H7v-7h2v7zm4 0h-2V7h2v10zm4 0h-2v-4h2v4z\"/>\n",
              "    </g>\n",
              "</svg>\n",
              "  </button>\n",
              "\n",
              "<style>\n",
              "  .colab-df-quickchart {\n",
              "      --bg-color: #E8F0FE;\n",
              "      --fill-color: #1967D2;\n",
              "      --hover-bg-color: #E2EBFA;\n",
              "      --hover-fill-color: #174EA6;\n",
              "      --disabled-fill-color: #AAA;\n",
              "      --disabled-bg-color: #DDD;\n",
              "  }\n",
              "\n",
              "  [theme=dark] .colab-df-quickchart {\n",
              "      --bg-color: #3B4455;\n",
              "      --fill-color: #D2E3FC;\n",
              "      --hover-bg-color: #434B5C;\n",
              "      --hover-fill-color: #FFFFFF;\n",
              "      --disabled-bg-color: #3B4455;\n",
              "      --disabled-fill-color: #666;\n",
              "  }\n",
              "\n",
              "  .colab-df-quickchart {\n",
              "    background-color: var(--bg-color);\n",
              "    border: none;\n",
              "    border-radius: 50%;\n",
              "    cursor: pointer;\n",
              "    display: none;\n",
              "    fill: var(--fill-color);\n",
              "    height: 32px;\n",
              "    padding: 0;\n",
              "    width: 32px;\n",
              "  }\n",
              "\n",
              "  .colab-df-quickchart:hover {\n",
              "    background-color: var(--hover-bg-color);\n",
              "    box-shadow: 0 1px 2px rgba(60, 64, 67, 0.3), 0 1px 3px 1px rgba(60, 64, 67, 0.15);\n",
              "    fill: var(--button-hover-fill-color);\n",
              "  }\n",
              "\n",
              "  .colab-df-quickchart-complete:disabled,\n",
              "  .colab-df-quickchart-complete:disabled:hover {\n",
              "    background-color: var(--disabled-bg-color);\n",
              "    fill: var(--disabled-fill-color);\n",
              "    box-shadow: none;\n",
              "  }\n",
              "\n",
              "  .colab-df-spinner {\n",
              "    border: 2px solid var(--fill-color);\n",
              "    border-color: transparent;\n",
              "    border-bottom-color: var(--fill-color);\n",
              "    animation:\n",
              "      spin 1s steps(1) infinite;\n",
              "  }\n",
              "\n",
              "  @keyframes spin {\n",
              "    0% {\n",
              "      border-color: transparent;\n",
              "      border-bottom-color: var(--fill-color);\n",
              "      border-left-color: var(--fill-color);\n",
              "    }\n",
              "    20% {\n",
              "      border-color: transparent;\n",
              "      border-left-color: var(--fill-color);\n",
              "      border-top-color: var(--fill-color);\n",
              "    }\n",
              "    30% {\n",
              "      border-color: transparent;\n",
              "      border-left-color: var(--fill-color);\n",
              "      border-top-color: var(--fill-color);\n",
              "      border-right-color: var(--fill-color);\n",
              "    }\n",
              "    40% {\n",
              "      border-color: transparent;\n",
              "      border-right-color: var(--fill-color);\n",
              "      border-top-color: var(--fill-color);\n",
              "    }\n",
              "    60% {\n",
              "      border-color: transparent;\n",
              "      border-right-color: var(--fill-color);\n",
              "    }\n",
              "    80% {\n",
              "      border-color: transparent;\n",
              "      border-right-color: var(--fill-color);\n",
              "      border-bottom-color: var(--fill-color);\n",
              "    }\n",
              "    90% {\n",
              "      border-color: transparent;\n",
              "      border-bottom-color: var(--fill-color);\n",
              "    }\n",
              "  }\n",
              "</style>\n",
              "\n",
              "  <script>\n",
              "    async function quickchart(key) {\n",
              "      const quickchartButtonEl =\n",
              "        document.querySelector('#' + key + ' button');\n",
              "      quickchartButtonEl.disabled = true;  // To prevent multiple clicks.\n",
              "      quickchartButtonEl.classList.add('colab-df-spinner');\n",
              "      try {\n",
              "        const charts = await google.colab.kernel.invokeFunction(\n",
              "            'suggestCharts', [key], {});\n",
              "      } catch (error) {\n",
              "        console.error('Error during call to suggestCharts:', error);\n",
              "      }\n",
              "      quickchartButtonEl.classList.remove('colab-df-spinner');\n",
              "      quickchartButtonEl.classList.add('colab-df-quickchart-complete');\n",
              "    }\n",
              "    (() => {\n",
              "      let quickchartButtonEl =\n",
              "        document.querySelector('#df-bc599b2f-9855-48cf-ac36-21c20b8b6cea button');\n",
              "      quickchartButtonEl.style.display =\n",
              "        google.colab.kernel.accessAllowed ? 'block' : 'none';\n",
              "    })();\n",
              "  </script>\n",
              "</div>\n",
              "    </div>\n",
              "  </div>\n"
            ],
            "application/vnd.google.colaboratory.intrinsic+json": {
              "type": "dataframe",
              "summary": "{\n  \"name\": \"display_and_info(marketing_dealer)\",\n  \"rows\": 10,\n  \"fields\": [\n    {\n      \"column\": \"id\",\n      \"properties\": {\n        \"dtype\": \"number\",\n        \"std\": 3,\n        \"min\": 1,\n        \"max\": 12,\n        \"num_unique_values\": 10,\n        \"samples\": [\n          11,\n          2,\n          7\n        ],\n        \"semantic_type\": \"\",\n        \"description\": \"\"\n      }\n    },\n    {\n      \"column\": \"name\",\n      \"properties\": {\n        \"dtype\": \"string\",\n        \"num_unique_values\": 10,\n        \"samples\": [\n          \"Petrovich\",\n          \"Akson\",\n          \"Komus\"\n        ],\n        \"semantic_type\": \"\",\n        \"description\": \"\"\n      }\n    }\n  ]\n}"
            }
          },
          "metadata": {}
        },
        {
          "output_type": "stream",
          "name": "stdout",
          "text": [
            "<class 'pandas.core.frame.DataFrame'>\n",
            "RangeIndex: 18 entries, 0 to 17\n",
            "Data columns (total 2 columns):\n",
            " #   Column  Non-Null Count  Dtype \n",
            "---  ------  --------------  ----- \n",
            " 0   id      18 non-null     int64 \n",
            " 1   name    18 non-null     object\n",
            "dtypes: int64(1), object(1)\n",
            "memory usage: 416.0+ bytes\n",
            "None\n",
            "id      0\n",
            "name    0\n",
            "dtype: int64\n",
            "Количество дубликатов: 0\n"
          ]
        }
      ]
    },
    {
      "cell_type": "markdown",
      "source": [
        "### marketing_productdealerkey (таблица матчинга товаров заказчика и товаров дилеров)"
      ],
      "metadata": {
        "id": "Eth8bU9z5Ikq"
      }
    },
    {
      "cell_type": "markdown",
      "source": [
        "* key - внешний ключ к marketing_dealerprice\n",
        "*\tproduct_id - внешний ключ к marketing_product\n",
        "*\tdealer_id - внешний ключ к marketing_dealer\n"
      ],
      "metadata": {
        "id": "-K3zWCdQN3qv"
      }
    },
    {
      "cell_type": "code",
      "source": [
        "display_and_info(marketing_productdealerkey)"
      ],
      "metadata": {
        "id": "8dBScVZTNIN2",
        "colab": {
          "base_uri": "https://localhost:8080/",
          "height": 0
        },
        "outputId": "061871de-f88a-4151-f025-dcaeac3a71cd"
      },
      "execution_count": 52,
      "outputs": [
        {
          "output_type": "display_data",
          "data": {
            "text/plain": [
              "       key  dealer_id  product_id\n",
              "id                               \n",
              "1   546227          2          12\n",
              "2   651265          2         106\n",
              "3   546257          2         200\n",
              "4   546408          2          38\n",
              "5   651258          2         403\n",
              "6   546234          2          18\n",
              "7   546355          2          39\n",
              "8   831859          2         396\n",
              "9   832159          2         284\n",
              "10  831853          2         276"
            ],
            "text/html": [
              "\n",
              "  <div id=\"df-d1ac2d64-d192-4646-b696-f0730d5d3ebc\" class=\"colab-df-container\">\n",
              "    <div>\n",
              "<style scoped>\n",
              "    .dataframe tbody tr th:only-of-type {\n",
              "        vertical-align: middle;\n",
              "    }\n",
              "\n",
              "    .dataframe tbody tr th {\n",
              "        vertical-align: top;\n",
              "    }\n",
              "\n",
              "    .dataframe thead th {\n",
              "        text-align: right;\n",
              "    }\n",
              "</style>\n",
              "<table border=\"1\" class=\"dataframe\">\n",
              "  <thead>\n",
              "    <tr style=\"text-align: right;\">\n",
              "      <th></th>\n",
              "      <th>key</th>\n",
              "      <th>dealer_id</th>\n",
              "      <th>product_id</th>\n",
              "    </tr>\n",
              "    <tr>\n",
              "      <th>id</th>\n",
              "      <th></th>\n",
              "      <th></th>\n",
              "      <th></th>\n",
              "    </tr>\n",
              "  </thead>\n",
              "  <tbody>\n",
              "    <tr>\n",
              "      <th>1</th>\n",
              "      <td>546227</td>\n",
              "      <td>2</td>\n",
              "      <td>12</td>\n",
              "    </tr>\n",
              "    <tr>\n",
              "      <th>2</th>\n",
              "      <td>651265</td>\n",
              "      <td>2</td>\n",
              "      <td>106</td>\n",
              "    </tr>\n",
              "    <tr>\n",
              "      <th>3</th>\n",
              "      <td>546257</td>\n",
              "      <td>2</td>\n",
              "      <td>200</td>\n",
              "    </tr>\n",
              "    <tr>\n",
              "      <th>4</th>\n",
              "      <td>546408</td>\n",
              "      <td>2</td>\n",
              "      <td>38</td>\n",
              "    </tr>\n",
              "    <tr>\n",
              "      <th>5</th>\n",
              "      <td>651258</td>\n",
              "      <td>2</td>\n",
              "      <td>403</td>\n",
              "    </tr>\n",
              "    <tr>\n",
              "      <th>6</th>\n",
              "      <td>546234</td>\n",
              "      <td>2</td>\n",
              "      <td>18</td>\n",
              "    </tr>\n",
              "    <tr>\n",
              "      <th>7</th>\n",
              "      <td>546355</td>\n",
              "      <td>2</td>\n",
              "      <td>39</td>\n",
              "    </tr>\n",
              "    <tr>\n",
              "      <th>8</th>\n",
              "      <td>831859</td>\n",
              "      <td>2</td>\n",
              "      <td>396</td>\n",
              "    </tr>\n",
              "    <tr>\n",
              "      <th>9</th>\n",
              "      <td>832159</td>\n",
              "      <td>2</td>\n",
              "      <td>284</td>\n",
              "    </tr>\n",
              "    <tr>\n",
              "      <th>10</th>\n",
              "      <td>831853</td>\n",
              "      <td>2</td>\n",
              "      <td>276</td>\n",
              "    </tr>\n",
              "  </tbody>\n",
              "</table>\n",
              "</div>\n",
              "    <div class=\"colab-df-buttons\">\n",
              "\n",
              "  <div class=\"colab-df-container\">\n",
              "    <button class=\"colab-df-convert\" onclick=\"convertToInteractive('df-d1ac2d64-d192-4646-b696-f0730d5d3ebc')\"\n",
              "            title=\"Convert this dataframe to an interactive table.\"\n",
              "            style=\"display:none;\">\n",
              "\n",
              "  <svg xmlns=\"http://www.w3.org/2000/svg\" height=\"24px\" viewBox=\"0 -960 960 960\">\n",
              "    <path d=\"M120-120v-720h720v720H120Zm60-500h600v-160H180v160Zm220 220h160v-160H400v160Zm0 220h160v-160H400v160ZM180-400h160v-160H180v160Zm440 0h160v-160H620v160ZM180-180h160v-160H180v160Zm440 0h160v-160H620v160Z\"/>\n",
              "  </svg>\n",
              "    </button>\n",
              "\n",
              "  <style>\n",
              "    .colab-df-container {\n",
              "      display:flex;\n",
              "      gap: 12px;\n",
              "    }\n",
              "\n",
              "    .colab-df-convert {\n",
              "      background-color: #E8F0FE;\n",
              "      border: none;\n",
              "      border-radius: 50%;\n",
              "      cursor: pointer;\n",
              "      display: none;\n",
              "      fill: #1967D2;\n",
              "      height: 32px;\n",
              "      padding: 0 0 0 0;\n",
              "      width: 32px;\n",
              "    }\n",
              "\n",
              "    .colab-df-convert:hover {\n",
              "      background-color: #E2EBFA;\n",
              "      box-shadow: 0px 1px 2px rgba(60, 64, 67, 0.3), 0px 1px 3px 1px rgba(60, 64, 67, 0.15);\n",
              "      fill: #174EA6;\n",
              "    }\n",
              "\n",
              "    .colab-df-buttons div {\n",
              "      margin-bottom: 4px;\n",
              "    }\n",
              "\n",
              "    [theme=dark] .colab-df-convert {\n",
              "      background-color: #3B4455;\n",
              "      fill: #D2E3FC;\n",
              "    }\n",
              "\n",
              "    [theme=dark] .colab-df-convert:hover {\n",
              "      background-color: #434B5C;\n",
              "      box-shadow: 0px 1px 3px 1px rgba(0, 0, 0, 0.15);\n",
              "      filter: drop-shadow(0px 1px 2px rgba(0, 0, 0, 0.3));\n",
              "      fill: #FFFFFF;\n",
              "    }\n",
              "  </style>\n",
              "\n",
              "    <script>\n",
              "      const buttonEl =\n",
              "        document.querySelector('#df-d1ac2d64-d192-4646-b696-f0730d5d3ebc button.colab-df-convert');\n",
              "      buttonEl.style.display =\n",
              "        google.colab.kernel.accessAllowed ? 'block' : 'none';\n",
              "\n",
              "      async function convertToInteractive(key) {\n",
              "        const element = document.querySelector('#df-d1ac2d64-d192-4646-b696-f0730d5d3ebc');\n",
              "        const dataTable =\n",
              "          await google.colab.kernel.invokeFunction('convertToInteractive',\n",
              "                                                    [key], {});\n",
              "        if (!dataTable) return;\n",
              "\n",
              "        const docLinkHtml = 'Like what you see? Visit the ' +\n",
              "          '<a target=\"_blank\" href=https://colab.research.google.com/notebooks/data_table.ipynb>data table notebook</a>'\n",
              "          + ' to learn more about interactive tables.';\n",
              "        element.innerHTML = '';\n",
              "        dataTable['output_type'] = 'display_data';\n",
              "        await google.colab.output.renderOutput(dataTable, element);\n",
              "        const docLink = document.createElement('div');\n",
              "        docLink.innerHTML = docLinkHtml;\n",
              "        element.appendChild(docLink);\n",
              "      }\n",
              "    </script>\n",
              "  </div>\n",
              "\n",
              "\n",
              "<div id=\"df-3ab0aa21-a148-4818-a31d-3b9a74a4314f\">\n",
              "  <button class=\"colab-df-quickchart\" onclick=\"quickchart('df-3ab0aa21-a148-4818-a31d-3b9a74a4314f')\"\n",
              "            title=\"Suggest charts\"\n",
              "            style=\"display:none;\">\n",
              "\n",
              "<svg xmlns=\"http://www.w3.org/2000/svg\" height=\"24px\"viewBox=\"0 0 24 24\"\n",
              "     width=\"24px\">\n",
              "    <g>\n",
              "        <path d=\"M19 3H5c-1.1 0-2 .9-2 2v14c0 1.1.9 2 2 2h14c1.1 0 2-.9 2-2V5c0-1.1-.9-2-2-2zM9 17H7v-7h2v7zm4 0h-2V7h2v10zm4 0h-2v-4h2v4z\"/>\n",
              "    </g>\n",
              "</svg>\n",
              "  </button>\n",
              "\n",
              "<style>\n",
              "  .colab-df-quickchart {\n",
              "      --bg-color: #E8F0FE;\n",
              "      --fill-color: #1967D2;\n",
              "      --hover-bg-color: #E2EBFA;\n",
              "      --hover-fill-color: #174EA6;\n",
              "      --disabled-fill-color: #AAA;\n",
              "      --disabled-bg-color: #DDD;\n",
              "  }\n",
              "\n",
              "  [theme=dark] .colab-df-quickchart {\n",
              "      --bg-color: #3B4455;\n",
              "      --fill-color: #D2E3FC;\n",
              "      --hover-bg-color: #434B5C;\n",
              "      --hover-fill-color: #FFFFFF;\n",
              "      --disabled-bg-color: #3B4455;\n",
              "      --disabled-fill-color: #666;\n",
              "  }\n",
              "\n",
              "  .colab-df-quickchart {\n",
              "    background-color: var(--bg-color);\n",
              "    border: none;\n",
              "    border-radius: 50%;\n",
              "    cursor: pointer;\n",
              "    display: none;\n",
              "    fill: var(--fill-color);\n",
              "    height: 32px;\n",
              "    padding: 0;\n",
              "    width: 32px;\n",
              "  }\n",
              "\n",
              "  .colab-df-quickchart:hover {\n",
              "    background-color: var(--hover-bg-color);\n",
              "    box-shadow: 0 1px 2px rgba(60, 64, 67, 0.3), 0 1px 3px 1px rgba(60, 64, 67, 0.15);\n",
              "    fill: var(--button-hover-fill-color);\n",
              "  }\n",
              "\n",
              "  .colab-df-quickchart-complete:disabled,\n",
              "  .colab-df-quickchart-complete:disabled:hover {\n",
              "    background-color: var(--disabled-bg-color);\n",
              "    fill: var(--disabled-fill-color);\n",
              "    box-shadow: none;\n",
              "  }\n",
              "\n",
              "  .colab-df-spinner {\n",
              "    border: 2px solid var(--fill-color);\n",
              "    border-color: transparent;\n",
              "    border-bottom-color: var(--fill-color);\n",
              "    animation:\n",
              "      spin 1s steps(1) infinite;\n",
              "  }\n",
              "\n",
              "  @keyframes spin {\n",
              "    0% {\n",
              "      border-color: transparent;\n",
              "      border-bottom-color: var(--fill-color);\n",
              "      border-left-color: var(--fill-color);\n",
              "    }\n",
              "    20% {\n",
              "      border-color: transparent;\n",
              "      border-left-color: var(--fill-color);\n",
              "      border-top-color: var(--fill-color);\n",
              "    }\n",
              "    30% {\n",
              "      border-color: transparent;\n",
              "      border-left-color: var(--fill-color);\n",
              "      border-top-color: var(--fill-color);\n",
              "      border-right-color: var(--fill-color);\n",
              "    }\n",
              "    40% {\n",
              "      border-color: transparent;\n",
              "      border-right-color: var(--fill-color);\n",
              "      border-top-color: var(--fill-color);\n",
              "    }\n",
              "    60% {\n",
              "      border-color: transparent;\n",
              "      border-right-color: var(--fill-color);\n",
              "    }\n",
              "    80% {\n",
              "      border-color: transparent;\n",
              "      border-right-color: var(--fill-color);\n",
              "      border-bottom-color: var(--fill-color);\n",
              "    }\n",
              "    90% {\n",
              "      border-color: transparent;\n",
              "      border-bottom-color: var(--fill-color);\n",
              "    }\n",
              "  }\n",
              "</style>\n",
              "\n",
              "  <script>\n",
              "    async function quickchart(key) {\n",
              "      const quickchartButtonEl =\n",
              "        document.querySelector('#' + key + ' button');\n",
              "      quickchartButtonEl.disabled = true;  // To prevent multiple clicks.\n",
              "      quickchartButtonEl.classList.add('colab-df-spinner');\n",
              "      try {\n",
              "        const charts = await google.colab.kernel.invokeFunction(\n",
              "            'suggestCharts', [key], {});\n",
              "      } catch (error) {\n",
              "        console.error('Error during call to suggestCharts:', error);\n",
              "      }\n",
              "      quickchartButtonEl.classList.remove('colab-df-spinner');\n",
              "      quickchartButtonEl.classList.add('colab-df-quickchart-complete');\n",
              "    }\n",
              "    (() => {\n",
              "      let quickchartButtonEl =\n",
              "        document.querySelector('#df-3ab0aa21-a148-4818-a31d-3b9a74a4314f button');\n",
              "      quickchartButtonEl.style.display =\n",
              "        google.colab.kernel.accessAllowed ? 'block' : 'none';\n",
              "    })();\n",
              "  </script>\n",
              "</div>\n",
              "    </div>\n",
              "  </div>\n"
            ],
            "application/vnd.google.colaboratory.intrinsic+json": {
              "type": "dataframe",
              "summary": "{\n  \"name\": \"display_and_info(marketing_productdealerkey)\",\n  \"rows\": 10,\n  \"fields\": [\n    {\n      \"column\": \"key\",\n      \"properties\": {\n        \"dtype\": \"string\",\n        \"num_unique_values\": 10,\n        \"samples\": [\n          \"832159\",\n          \"651265\",\n          \"546234\"\n        ],\n        \"semantic_type\": \"\",\n        \"description\": \"\"\n      }\n    },\n    {\n      \"column\": \"dealer_id\",\n      \"properties\": {\n        \"dtype\": \"number\",\n        \"std\": 0,\n        \"min\": 2,\n        \"max\": 2,\n        \"num_unique_values\": 1,\n        \"samples\": [\n          2\n        ],\n        \"semantic_type\": \"\",\n        \"description\": \"\"\n      }\n    },\n    {\n      \"column\": \"product_id\",\n      \"properties\": {\n        \"dtype\": \"number\",\n        \"std\": 155,\n        \"min\": 12,\n        \"max\": 403,\n        \"num_unique_values\": 10,\n        \"samples\": [\n          284\n        ],\n        \"semantic_type\": \"\",\n        \"description\": \"\"\n      }\n    }\n  ]\n}"
            }
          },
          "metadata": {}
        },
        {
          "output_type": "stream",
          "name": "stdout",
          "text": [
            "<class 'pandas.core.frame.DataFrame'>\n",
            "Int64Index: 1700 entries, 1 to 2023\n",
            "Data columns (total 3 columns):\n",
            " #   Column      Non-Null Count  Dtype \n",
            "---  ------      --------------  ----- \n",
            " 0   key         1700 non-null   object\n",
            " 1   dealer_id   1700 non-null   int64 \n",
            " 2   product_id  1700 non-null   int64 \n",
            "dtypes: int64(2), object(1)\n",
            "memory usage: 53.1+ KB\n",
            "None\n",
            "key           0\n",
            "dealer_id     0\n",
            "product_id    0\n",
            "dtype: int64\n",
            "Количество дубликатов: 0\n"
          ]
        }
      ]
    },
    {
      "cell_type": "markdown",
      "source": [
        "* у дилера с id=6 вместо номеров ключей вставлены url\n",
        "* разное количество продуктов у дилера по сравнению с таблицей `marketing_dealerprice`"
      ],
      "metadata": {
        "id": "yiA2U3IYPQzs"
      }
    },
    {
      "cell_type": "markdown",
      "source": [
        "### marketing_product (список товаров, которые производит и распространяет заказчик)"
      ],
      "metadata": {
        "id": "LepVlh_25KXG"
      }
    },
    {
      "cell_type": "markdown",
      "source": [
        "*\tarticle - артикул товара;\n",
        "*\tean_13 - код товара (см. EAN 13)\n",
        "*\tname - название товара;\n",
        "*\tcost - стоимость;\n",
        "*\tmin_recommended_price - рекомендованная минимальная цена;\n",
        "*\trecommended_price - рекомендованная цена;\n",
        "*\tcategory_id - категория товара;\n",
        "*\tozon_name - названиет товара на Озоне;\n",
        "*\tname_1c - название товара в 1C;\n",
        "*\tozon_article - описание для Озон;\n",
        "*\twb_name - название товара на Wildberries;\n",
        "*\tym_article - артикул для Яндекс.Маркета;\n",
        "*\twb_article - артикул для Wildberries;"
      ],
      "metadata": {
        "id": "19fuNTUv-N90"
      }
    },
    {
      "cell_type": "code",
      "source": [
        "display_and_info(marketing_product)"
      ],
      "metadata": {
        "id": "28dcTp4tNb1z",
        "colab": {
          "base_uri": "https://localhost:8080/",
          "height": 0
        },
        "outputId": "8bf798f0-c4d4-4acf-e1d8-06ad4ff96feb"
      },
      "execution_count": 53,
      "outputs": [
        {
          "output_type": "display_data",
          "data": {
            "text/plain": [
              "    id    article        ean_13  \\\n",
              "0  245      008-1  4.680008e+12   \n",
              "1    3     242-12           NaN   \n",
              "2  443  0024-06 с  4.680008e+12   \n",
              "3  147      305-2  4.610093e+12   \n",
              "4  502   0024-7 б           NaN   \n",
              "5  220      051-6  4.610093e+12   \n",
              "6  385     051-10  4.680008e+12   \n",
              "7  114      125-5  4.680008e+12   \n",
              "8  505    СФ001-5  4.610093e+12   \n",
              "9   32      100-1  4.680008e+12   \n",
              "\n",
              "                                                name     cost  \\\n",
              "0  Антисептик невымываемыйPROSEPT ULTRAконцентрат...   360.00   \n",
              "1     Антигололед - 32 PROSEPTготовый состав / 12 кг   460.16   \n",
              "2           Герметик акриловый цвет сосна, ф/п 600мл   307.00   \n",
              "3  Кондиционер для белья с ароматом  королевского...   157.73   \n",
              "4               Герметик акриловой  цвет Белый, 7 кг      NaN   \n",
              "5            Грунт БЕТОНКОНТАКТготовый состав / 6 кг   703.00   \n",
              "6           Грунт БЕТОНКОНТАКТготовый состав / 12 кг  1111.00   \n",
              "7  Средство для удаления технических масел, смазо...   711.82   \n",
              "8              Антисептик универсальный суперсильный   200.00   \n",
              "9  Средство для мытья светлых полов с отбеливающи...   132.72   \n",
              "\n",
              "   recommended_price  category_id  \\\n",
              "0              858.0         20.0   \n",
              "1             1075.0          NaN   \n",
              "2              644.0         25.0   \n",
              "3              342.0         29.0   \n",
              "4                NaN          NaN   \n",
              "5             1339.0         26.0   \n",
              "6             2505.0         26.0   \n",
              "7             1663.0         35.0   \n",
              "8              510.0         20.0   \n",
              "9              311.0         40.0   \n",
              "\n",
              "                                           ozon_name  \\\n",
              "0  Антисептик невымываемый для ответственных конс...   \n",
              "1                                                NaN   \n",
              "2  Герметик акриловый для швов для деревянных дом...   \n",
              "3  Кондиционер для белья \"Королевский Ирис\" Prose...   \n",
              "4                                                NaN   \n",
              "5  Грунт бетоноконтакт, для гладких поверхностей ...   \n",
              "6  Грунт бетоноконтакт, для гладких поверхностей ...   \n",
              "7  Средство для удаления технических масел, смазо...   \n",
              "8              Антисептик универсальный суперсильный   \n",
              "9  Профессиональное средство для мытья светлых по...   \n",
              "\n",
              "                                             name_1c  \\\n",
              "0  Антисептик невымываемый для ответственных конс...   \n",
              "1     Антигололед - 32 PROSEPTготовый состав / 12 кг   \n",
              "2           Герметик акриловый цвет сосна, ф/п 600мл   \n",
              "3  Кондиционер для белья \"Королевский Ирис\" Prose...   \n",
              "4                                                NaN   \n",
              "5  Грунт бетоноконтакт, для гладких поверхностей ...   \n",
              "6  Грунт бетоноконтакт, для гладких поверхностей ...   \n",
              "7  Средство для удаления технических масел, смазо...   \n",
              "8              Антисептик универсальный суперсильный   \n",
              "9  Профессиональное средство для мытья светлых по...   \n",
              "\n",
              "                                             wb_name  ozon_article  \\\n",
              "0  Антисептик невымываемый для ответственных конс...   189522705.0   \n",
              "1                                                NaN           NaN   \n",
              "2  Герметик акриловый для швов для деревянных дом...   189522735.0   \n",
              "3  Кондиционер для белья \"Королевский Ирис\" Prose...   339377922.0   \n",
              "4                                                NaN   189522867.0   \n",
              "5  Грунт бетоноконтакт, для гладких поверхностей ...   453193200.0   \n",
              "6  Грунт бетоноконтакт, для гладких поверхностей ...   189522783.0   \n",
              "7  Средство для удаления технических масел, смазо...   189522869.0   \n",
              "8              Антисептик универсальный суперсильный           NaN   \n",
              "9  Профессиональное средство для мытья светлых по...   451088021.0   \n",
              "\n",
              "    wb_article ym_article wb_article_td  \n",
              "0  150033482.0      008-1           NaN  \n",
              "1          NaN        NaN           NaN  \n",
              "2  150126217.0  0024-06-с           NaN  \n",
              "3  150032962.0      305-2           NaN  \n",
              "4  150126216.0   0024-7-б           NaN  \n",
              "5  149699633.0      051-6           NaN  \n",
              "6  149699627.0     051-10           NaN  \n",
              "7  149992148.0      125-5           NaN  \n",
              "8          NaN        NaN           NaN  \n",
              "9  149705841.0      100-1           NaN  "
            ],
            "text/html": [
              "\n",
              "  <div id=\"df-bb81a43a-8edc-4b7c-980f-b94061499f22\" class=\"colab-df-container\">\n",
              "    <div>\n",
              "<style scoped>\n",
              "    .dataframe tbody tr th:only-of-type {\n",
              "        vertical-align: middle;\n",
              "    }\n",
              "\n",
              "    .dataframe tbody tr th {\n",
              "        vertical-align: top;\n",
              "    }\n",
              "\n",
              "    .dataframe thead th {\n",
              "        text-align: right;\n",
              "    }\n",
              "</style>\n",
              "<table border=\"1\" class=\"dataframe\">\n",
              "  <thead>\n",
              "    <tr style=\"text-align: right;\">\n",
              "      <th></th>\n",
              "      <th>id</th>\n",
              "      <th>article</th>\n",
              "      <th>ean_13</th>\n",
              "      <th>name</th>\n",
              "      <th>cost</th>\n",
              "      <th>recommended_price</th>\n",
              "      <th>category_id</th>\n",
              "      <th>ozon_name</th>\n",
              "      <th>name_1c</th>\n",
              "      <th>wb_name</th>\n",
              "      <th>ozon_article</th>\n",
              "      <th>wb_article</th>\n",
              "      <th>ym_article</th>\n",
              "      <th>wb_article_td</th>\n",
              "    </tr>\n",
              "  </thead>\n",
              "  <tbody>\n",
              "    <tr>\n",
              "      <th>0</th>\n",
              "      <td>245</td>\n",
              "      <td>008-1</td>\n",
              "      <td>4.680008e+12</td>\n",
              "      <td>Антисептик невымываемыйPROSEPT ULTRAконцентрат...</td>\n",
              "      <td>360.00</td>\n",
              "      <td>858.0</td>\n",
              "      <td>20.0</td>\n",
              "      <td>Антисептик невымываемый для ответственных конс...</td>\n",
              "      <td>Антисептик невымываемый для ответственных конс...</td>\n",
              "      <td>Антисептик невымываемый для ответственных конс...</td>\n",
              "      <td>189522705.0</td>\n",
              "      <td>150033482.0</td>\n",
              "      <td>008-1</td>\n",
              "      <td>NaN</td>\n",
              "    </tr>\n",
              "    <tr>\n",
              "      <th>1</th>\n",
              "      <td>3</td>\n",
              "      <td>242-12</td>\n",
              "      <td>NaN</td>\n",
              "      <td>Антигололед - 32 PROSEPTготовый состав / 12 кг</td>\n",
              "      <td>460.16</td>\n",
              "      <td>1075.0</td>\n",
              "      <td>NaN</td>\n",
              "      <td>NaN</td>\n",
              "      <td>Антигололед - 32 PROSEPTготовый состав / 12 кг</td>\n",
              "      <td>NaN</td>\n",
              "      <td>NaN</td>\n",
              "      <td>NaN</td>\n",
              "      <td>NaN</td>\n",
              "      <td>NaN</td>\n",
              "    </tr>\n",
              "    <tr>\n",
              "      <th>2</th>\n",
              "      <td>443</td>\n",
              "      <td>0024-06 с</td>\n",
              "      <td>4.680008e+12</td>\n",
              "      <td>Герметик акриловый цвет сосна, ф/п 600мл</td>\n",
              "      <td>307.00</td>\n",
              "      <td>644.0</td>\n",
              "      <td>25.0</td>\n",
              "      <td>Герметик акриловый для швов для деревянных дом...</td>\n",
              "      <td>Герметик акриловый цвет сосна, ф/п 600мл</td>\n",
              "      <td>Герметик акриловый для швов для деревянных дом...</td>\n",
              "      <td>189522735.0</td>\n",
              "      <td>150126217.0</td>\n",
              "      <td>0024-06-с</td>\n",
              "      <td>NaN</td>\n",
              "    </tr>\n",
              "    <tr>\n",
              "      <th>3</th>\n",
              "      <td>147</td>\n",
              "      <td>305-2</td>\n",
              "      <td>4.610093e+12</td>\n",
              "      <td>Кондиционер для белья с ароматом  королевского...</td>\n",
              "      <td>157.73</td>\n",
              "      <td>342.0</td>\n",
              "      <td>29.0</td>\n",
              "      <td>Кондиционер для белья \"Королевский Ирис\" Prose...</td>\n",
              "      <td>Кондиционер для белья \"Королевский Ирис\" Prose...</td>\n",
              "      <td>Кондиционер для белья \"Королевский Ирис\" Prose...</td>\n",
              "      <td>339377922.0</td>\n",
              "      <td>150032962.0</td>\n",
              "      <td>305-2</td>\n",
              "      <td>NaN</td>\n",
              "    </tr>\n",
              "    <tr>\n",
              "      <th>4</th>\n",
              "      <td>502</td>\n",
              "      <td>0024-7 б</td>\n",
              "      <td>NaN</td>\n",
              "      <td>Герметик акриловой  цвет Белый, 7 кг</td>\n",
              "      <td>NaN</td>\n",
              "      <td>NaN</td>\n",
              "      <td>NaN</td>\n",
              "      <td>NaN</td>\n",
              "      <td>NaN</td>\n",
              "      <td>NaN</td>\n",
              "      <td>189522867.0</td>\n",
              "      <td>150126216.0</td>\n",
              "      <td>0024-7-б</td>\n",
              "      <td>NaN</td>\n",
              "    </tr>\n",
              "    <tr>\n",
              "      <th>5</th>\n",
              "      <td>220</td>\n",
              "      <td>051-6</td>\n",
              "      <td>4.610093e+12</td>\n",
              "      <td>Грунт БЕТОНКОНТАКТготовый состав / 6 кг</td>\n",
              "      <td>703.00</td>\n",
              "      <td>1339.0</td>\n",
              "      <td>26.0</td>\n",
              "      <td>Грунт бетоноконтакт, для гладких поверхностей ...</td>\n",
              "      <td>Грунт бетоноконтакт, для гладких поверхностей ...</td>\n",
              "      <td>Грунт бетоноконтакт, для гладких поверхностей ...</td>\n",
              "      <td>453193200.0</td>\n",
              "      <td>149699633.0</td>\n",
              "      <td>051-6</td>\n",
              "      <td>NaN</td>\n",
              "    </tr>\n",
              "    <tr>\n",
              "      <th>6</th>\n",
              "      <td>385</td>\n",
              "      <td>051-10</td>\n",
              "      <td>4.680008e+12</td>\n",
              "      <td>Грунт БЕТОНКОНТАКТготовый состав / 12 кг</td>\n",
              "      <td>1111.00</td>\n",
              "      <td>2505.0</td>\n",
              "      <td>26.0</td>\n",
              "      <td>Грунт бетоноконтакт, для гладких поверхностей ...</td>\n",
              "      <td>Грунт бетоноконтакт, для гладких поверхностей ...</td>\n",
              "      <td>Грунт бетоноконтакт, для гладких поверхностей ...</td>\n",
              "      <td>189522783.0</td>\n",
              "      <td>149699627.0</td>\n",
              "      <td>051-10</td>\n",
              "      <td>NaN</td>\n",
              "    </tr>\n",
              "    <tr>\n",
              "      <th>7</th>\n",
              "      <td>114</td>\n",
              "      <td>125-5</td>\n",
              "      <td>4.680008e+12</td>\n",
              "      <td>Средство для удаления технических масел, смазо...</td>\n",
              "      <td>711.82</td>\n",
              "      <td>1663.0</td>\n",
              "      <td>35.0</td>\n",
              "      <td>Средство для удаления технических масел, смазо...</td>\n",
              "      <td>Средство для удаления технических масел, смазо...</td>\n",
              "      <td>Средство для удаления технических масел, смазо...</td>\n",
              "      <td>189522869.0</td>\n",
              "      <td>149992148.0</td>\n",
              "      <td>125-5</td>\n",
              "      <td>NaN</td>\n",
              "    </tr>\n",
              "    <tr>\n",
              "      <th>8</th>\n",
              "      <td>505</td>\n",
              "      <td>СФ001-5</td>\n",
              "      <td>4.610093e+12</td>\n",
              "      <td>Антисептик универсальный суперсильный</td>\n",
              "      <td>200.00</td>\n",
              "      <td>510.0</td>\n",
              "      <td>20.0</td>\n",
              "      <td>Антисептик универсальный суперсильный</td>\n",
              "      <td>Антисептик универсальный суперсильный</td>\n",
              "      <td>Антисептик универсальный суперсильный</td>\n",
              "      <td>NaN</td>\n",
              "      <td>NaN</td>\n",
              "      <td>NaN</td>\n",
              "      <td>NaN</td>\n",
              "    </tr>\n",
              "    <tr>\n",
              "      <th>9</th>\n",
              "      <td>32</td>\n",
              "      <td>100-1</td>\n",
              "      <td>4.680008e+12</td>\n",
              "      <td>Средство для мытья светлых полов с отбеливающи...</td>\n",
              "      <td>132.72</td>\n",
              "      <td>311.0</td>\n",
              "      <td>40.0</td>\n",
              "      <td>Профессиональное средство для мытья светлых по...</td>\n",
              "      <td>Профессиональное средство для мытья светлых по...</td>\n",
              "      <td>Профессиональное средство для мытья светлых по...</td>\n",
              "      <td>451088021.0</td>\n",
              "      <td>149705841.0</td>\n",
              "      <td>100-1</td>\n",
              "      <td>NaN</td>\n",
              "    </tr>\n",
              "  </tbody>\n",
              "</table>\n",
              "</div>\n",
              "    <div class=\"colab-df-buttons\">\n",
              "\n",
              "  <div class=\"colab-df-container\">\n",
              "    <button class=\"colab-df-convert\" onclick=\"convertToInteractive('df-bb81a43a-8edc-4b7c-980f-b94061499f22')\"\n",
              "            title=\"Convert this dataframe to an interactive table.\"\n",
              "            style=\"display:none;\">\n",
              "\n",
              "  <svg xmlns=\"http://www.w3.org/2000/svg\" height=\"24px\" viewBox=\"0 -960 960 960\">\n",
              "    <path d=\"M120-120v-720h720v720H120Zm60-500h600v-160H180v160Zm220 220h160v-160H400v160Zm0 220h160v-160H400v160ZM180-400h160v-160H180v160Zm440 0h160v-160H620v160ZM180-180h160v-160H180v160Zm440 0h160v-160H620v160Z\"/>\n",
              "  </svg>\n",
              "    </button>\n",
              "\n",
              "  <style>\n",
              "    .colab-df-container {\n",
              "      display:flex;\n",
              "      gap: 12px;\n",
              "    }\n",
              "\n",
              "    .colab-df-convert {\n",
              "      background-color: #E8F0FE;\n",
              "      border: none;\n",
              "      border-radius: 50%;\n",
              "      cursor: pointer;\n",
              "      display: none;\n",
              "      fill: #1967D2;\n",
              "      height: 32px;\n",
              "      padding: 0 0 0 0;\n",
              "      width: 32px;\n",
              "    }\n",
              "\n",
              "    .colab-df-convert:hover {\n",
              "      background-color: #E2EBFA;\n",
              "      box-shadow: 0px 1px 2px rgba(60, 64, 67, 0.3), 0px 1px 3px 1px rgba(60, 64, 67, 0.15);\n",
              "      fill: #174EA6;\n",
              "    }\n",
              "\n",
              "    .colab-df-buttons div {\n",
              "      margin-bottom: 4px;\n",
              "    }\n",
              "\n",
              "    [theme=dark] .colab-df-convert {\n",
              "      background-color: #3B4455;\n",
              "      fill: #D2E3FC;\n",
              "    }\n",
              "\n",
              "    [theme=dark] .colab-df-convert:hover {\n",
              "      background-color: #434B5C;\n",
              "      box-shadow: 0px 1px 3px 1px rgba(0, 0, 0, 0.15);\n",
              "      filter: drop-shadow(0px 1px 2px rgba(0, 0, 0, 0.3));\n",
              "      fill: #FFFFFF;\n",
              "    }\n",
              "  </style>\n",
              "\n",
              "    <script>\n",
              "      const buttonEl =\n",
              "        document.querySelector('#df-bb81a43a-8edc-4b7c-980f-b94061499f22 button.colab-df-convert');\n",
              "      buttonEl.style.display =\n",
              "        google.colab.kernel.accessAllowed ? 'block' : 'none';\n",
              "\n",
              "      async function convertToInteractive(key) {\n",
              "        const element = document.querySelector('#df-bb81a43a-8edc-4b7c-980f-b94061499f22');\n",
              "        const dataTable =\n",
              "          await google.colab.kernel.invokeFunction('convertToInteractive',\n",
              "                                                    [key], {});\n",
              "        if (!dataTable) return;\n",
              "\n",
              "        const docLinkHtml = 'Like what you see? Visit the ' +\n",
              "          '<a target=\"_blank\" href=https://colab.research.google.com/notebooks/data_table.ipynb>data table notebook</a>'\n",
              "          + ' to learn more about interactive tables.';\n",
              "        element.innerHTML = '';\n",
              "        dataTable['output_type'] = 'display_data';\n",
              "        await google.colab.output.renderOutput(dataTable, element);\n",
              "        const docLink = document.createElement('div');\n",
              "        docLink.innerHTML = docLinkHtml;\n",
              "        element.appendChild(docLink);\n",
              "      }\n",
              "    </script>\n",
              "  </div>\n",
              "\n",
              "\n",
              "<div id=\"df-04987c4a-5607-487d-b6ce-5528b7f20bea\">\n",
              "  <button class=\"colab-df-quickchart\" onclick=\"quickchart('df-04987c4a-5607-487d-b6ce-5528b7f20bea')\"\n",
              "            title=\"Suggest charts\"\n",
              "            style=\"display:none;\">\n",
              "\n",
              "<svg xmlns=\"http://www.w3.org/2000/svg\" height=\"24px\"viewBox=\"0 0 24 24\"\n",
              "     width=\"24px\">\n",
              "    <g>\n",
              "        <path d=\"M19 3H5c-1.1 0-2 .9-2 2v14c0 1.1.9 2 2 2h14c1.1 0 2-.9 2-2V5c0-1.1-.9-2-2-2zM9 17H7v-7h2v7zm4 0h-2V7h2v10zm4 0h-2v-4h2v4z\"/>\n",
              "    </g>\n",
              "</svg>\n",
              "  </button>\n",
              "\n",
              "<style>\n",
              "  .colab-df-quickchart {\n",
              "      --bg-color: #E8F0FE;\n",
              "      --fill-color: #1967D2;\n",
              "      --hover-bg-color: #E2EBFA;\n",
              "      --hover-fill-color: #174EA6;\n",
              "      --disabled-fill-color: #AAA;\n",
              "      --disabled-bg-color: #DDD;\n",
              "  }\n",
              "\n",
              "  [theme=dark] .colab-df-quickchart {\n",
              "      --bg-color: #3B4455;\n",
              "      --fill-color: #D2E3FC;\n",
              "      --hover-bg-color: #434B5C;\n",
              "      --hover-fill-color: #FFFFFF;\n",
              "      --disabled-bg-color: #3B4455;\n",
              "      --disabled-fill-color: #666;\n",
              "  }\n",
              "\n",
              "  .colab-df-quickchart {\n",
              "    background-color: var(--bg-color);\n",
              "    border: none;\n",
              "    border-radius: 50%;\n",
              "    cursor: pointer;\n",
              "    display: none;\n",
              "    fill: var(--fill-color);\n",
              "    height: 32px;\n",
              "    padding: 0;\n",
              "    width: 32px;\n",
              "  }\n",
              "\n",
              "  .colab-df-quickchart:hover {\n",
              "    background-color: var(--hover-bg-color);\n",
              "    box-shadow: 0 1px 2px rgba(60, 64, 67, 0.3), 0 1px 3px 1px rgba(60, 64, 67, 0.15);\n",
              "    fill: var(--button-hover-fill-color);\n",
              "  }\n",
              "\n",
              "  .colab-df-quickchart-complete:disabled,\n",
              "  .colab-df-quickchart-complete:disabled:hover {\n",
              "    background-color: var(--disabled-bg-color);\n",
              "    fill: var(--disabled-fill-color);\n",
              "    box-shadow: none;\n",
              "  }\n",
              "\n",
              "  .colab-df-spinner {\n",
              "    border: 2px solid var(--fill-color);\n",
              "    border-color: transparent;\n",
              "    border-bottom-color: var(--fill-color);\n",
              "    animation:\n",
              "      spin 1s steps(1) infinite;\n",
              "  }\n",
              "\n",
              "  @keyframes spin {\n",
              "    0% {\n",
              "      border-color: transparent;\n",
              "      border-bottom-color: var(--fill-color);\n",
              "      border-left-color: var(--fill-color);\n",
              "    }\n",
              "    20% {\n",
              "      border-color: transparent;\n",
              "      border-left-color: var(--fill-color);\n",
              "      border-top-color: var(--fill-color);\n",
              "    }\n",
              "    30% {\n",
              "      border-color: transparent;\n",
              "      border-left-color: var(--fill-color);\n",
              "      border-top-color: var(--fill-color);\n",
              "      border-right-color: var(--fill-color);\n",
              "    }\n",
              "    40% {\n",
              "      border-color: transparent;\n",
              "      border-right-color: var(--fill-color);\n",
              "      border-top-color: var(--fill-color);\n",
              "    }\n",
              "    60% {\n",
              "      border-color: transparent;\n",
              "      border-right-color: var(--fill-color);\n",
              "    }\n",
              "    80% {\n",
              "      border-color: transparent;\n",
              "      border-right-color: var(--fill-color);\n",
              "      border-bottom-color: var(--fill-color);\n",
              "    }\n",
              "    90% {\n",
              "      border-color: transparent;\n",
              "      border-bottom-color: var(--fill-color);\n",
              "    }\n",
              "  }\n",
              "</style>\n",
              "\n",
              "  <script>\n",
              "    async function quickchart(key) {\n",
              "      const quickchartButtonEl =\n",
              "        document.querySelector('#' + key + ' button');\n",
              "      quickchartButtonEl.disabled = true;  // To prevent multiple clicks.\n",
              "      quickchartButtonEl.classList.add('colab-df-spinner');\n",
              "      try {\n",
              "        const charts = await google.colab.kernel.invokeFunction(\n",
              "            'suggestCharts', [key], {});\n",
              "      } catch (error) {\n",
              "        console.error('Error during call to suggestCharts:', error);\n",
              "      }\n",
              "      quickchartButtonEl.classList.remove('colab-df-spinner');\n",
              "      quickchartButtonEl.classList.add('colab-df-quickchart-complete');\n",
              "    }\n",
              "    (() => {\n",
              "      let quickchartButtonEl =\n",
              "        document.querySelector('#df-04987c4a-5607-487d-b6ce-5528b7f20bea button');\n",
              "      quickchartButtonEl.style.display =\n",
              "        google.colab.kernel.accessAllowed ? 'block' : 'none';\n",
              "    })();\n",
              "  </script>\n",
              "</div>\n",
              "    </div>\n",
              "  </div>\n"
            ],
            "application/vnd.google.colaboratory.intrinsic+json": {
              "type": "dataframe",
              "repr_error": "'str' object has no attribute 'empty'"
            }
          },
          "metadata": {}
        },
        {
          "output_type": "stream",
          "name": "stdout",
          "text": [
            "<class 'pandas.core.frame.DataFrame'>\n",
            "Int64Index: 496 entries, 0 to 495\n",
            "Data columns (total 14 columns):\n",
            " #   Column             Non-Null Count  Dtype  \n",
            "---  ------             --------------  -----  \n",
            " 0   id                 496 non-null    int64  \n",
            " 1   article            496 non-null    object \n",
            " 2   ean_13             464 non-null    float64\n",
            " 3   name               494 non-null    object \n",
            " 4   cost               491 non-null    float64\n",
            " 5   recommended_price  491 non-null    float64\n",
            " 6   category_id        447 non-null    float64\n",
            " 7   ozon_name          458 non-null    object \n",
            " 8   name_1c            485 non-null    object \n",
            " 9   wb_name            455 non-null    object \n",
            " 10  ozon_article       365 non-null    float64\n",
            " 11  wb_article         340 non-null    float64\n",
            " 12  ym_article         337 non-null    object \n",
            " 13  wb_article_td      32 non-null     object \n",
            "dtypes: float64(6), int64(1), object(7)\n",
            "memory usage: 58.1+ KB\n",
            "None\n",
            "id                     0\n",
            "article                0\n",
            "ean_13                32\n",
            "name                   2\n",
            "cost                   5\n",
            "recommended_price      5\n",
            "category_id           49\n",
            "ozon_name             38\n",
            "name_1c               11\n",
            "wb_name               41\n",
            "ozon_article         131\n",
            "wb_article           156\n",
            "ym_article           159\n",
            "wb_article_td        464\n",
            "dtype: int64\n",
            "Количество дубликатов: 0\n"
          ]
        }
      ]
    },
    {
      "cell_type": "markdown",
      "source": [
        "* Присутствуют пропуски.\n",
        "* В ключевом столбце name есть 2 пропуска.\n",
        "* В остальных столбцах тоже есть пропуски: можно их заполнить на 'unknown'.\n",
        "* Названия продуктов написаны с ошибкой: нет пробелов между латиницей и кириллицей."
      ],
      "metadata": {
        "id": "hJbw_o2rPfFl"
      }
    },
    {
      "cell_type": "code",
      "source": [
        "# Рассмотрим строки с пропусками\n",
        "marketing_product[marketing_product.name.isna()]"
      ],
      "metadata": {
        "id": "8HqNW588QLYR",
        "colab": {
          "base_uri": "https://localhost:8080/",
          "height": 0
        },
        "outputId": "7f981f35-0441-4b16-8b61-22fdb87fefdb"
      },
      "execution_count": 54,
      "outputs": [
        {
          "output_type": "execute_result",
          "data": {
            "text/plain": [
              "     id   article  ean_13 name  cost  recommended_price  category_id  \\\n",
              "23  503  0024-7 о     NaN  NaN   NaN                NaN          NaN   \n",
              "35  504   w022-05     NaN  NaN   NaN                NaN          NaN   \n",
              "\n",
              "   ozon_name name_1c wb_name  ozon_article   wb_article ym_article  \\\n",
              "23       NaN     NaN     NaN           NaN  150126213.0        NaN   \n",
              "35       NaN     NaN     NaN           NaN          NaN        NaN   \n",
              "\n",
              "   wb_article_td  \n",
              "23           NaN  \n",
              "35           NaN  "
            ],
            "text/html": [
              "\n",
              "  <div id=\"df-205e258b-a0fa-4aa6-95e7-8bba2a43eda8\" class=\"colab-df-container\">\n",
              "    <div>\n",
              "<style scoped>\n",
              "    .dataframe tbody tr th:only-of-type {\n",
              "        vertical-align: middle;\n",
              "    }\n",
              "\n",
              "    .dataframe tbody tr th {\n",
              "        vertical-align: top;\n",
              "    }\n",
              "\n",
              "    .dataframe thead th {\n",
              "        text-align: right;\n",
              "    }\n",
              "</style>\n",
              "<table border=\"1\" class=\"dataframe\">\n",
              "  <thead>\n",
              "    <tr style=\"text-align: right;\">\n",
              "      <th></th>\n",
              "      <th>id</th>\n",
              "      <th>article</th>\n",
              "      <th>ean_13</th>\n",
              "      <th>name</th>\n",
              "      <th>cost</th>\n",
              "      <th>recommended_price</th>\n",
              "      <th>category_id</th>\n",
              "      <th>ozon_name</th>\n",
              "      <th>name_1c</th>\n",
              "      <th>wb_name</th>\n",
              "      <th>ozon_article</th>\n",
              "      <th>wb_article</th>\n",
              "      <th>ym_article</th>\n",
              "      <th>wb_article_td</th>\n",
              "    </tr>\n",
              "  </thead>\n",
              "  <tbody>\n",
              "    <tr>\n",
              "      <th>23</th>\n",
              "      <td>503</td>\n",
              "      <td>0024-7 о</td>\n",
              "      <td>NaN</td>\n",
              "      <td>NaN</td>\n",
              "      <td>NaN</td>\n",
              "      <td>NaN</td>\n",
              "      <td>NaN</td>\n",
              "      <td>NaN</td>\n",
              "      <td>NaN</td>\n",
              "      <td>NaN</td>\n",
              "      <td>NaN</td>\n",
              "      <td>150126213.0</td>\n",
              "      <td>NaN</td>\n",
              "      <td>NaN</td>\n",
              "    </tr>\n",
              "    <tr>\n",
              "      <th>35</th>\n",
              "      <td>504</td>\n",
              "      <td>w022-05</td>\n",
              "      <td>NaN</td>\n",
              "      <td>NaN</td>\n",
              "      <td>NaN</td>\n",
              "      <td>NaN</td>\n",
              "      <td>NaN</td>\n",
              "      <td>NaN</td>\n",
              "      <td>NaN</td>\n",
              "      <td>NaN</td>\n",
              "      <td>NaN</td>\n",
              "      <td>NaN</td>\n",
              "      <td>NaN</td>\n",
              "      <td>NaN</td>\n",
              "    </tr>\n",
              "  </tbody>\n",
              "</table>\n",
              "</div>\n",
              "    <div class=\"colab-df-buttons\">\n",
              "\n",
              "  <div class=\"colab-df-container\">\n",
              "    <button class=\"colab-df-convert\" onclick=\"convertToInteractive('df-205e258b-a0fa-4aa6-95e7-8bba2a43eda8')\"\n",
              "            title=\"Convert this dataframe to an interactive table.\"\n",
              "            style=\"display:none;\">\n",
              "\n",
              "  <svg xmlns=\"http://www.w3.org/2000/svg\" height=\"24px\" viewBox=\"0 -960 960 960\">\n",
              "    <path d=\"M120-120v-720h720v720H120Zm60-500h600v-160H180v160Zm220 220h160v-160H400v160Zm0 220h160v-160H400v160ZM180-400h160v-160H180v160Zm440 0h160v-160H620v160ZM180-180h160v-160H180v160Zm440 0h160v-160H620v160Z\"/>\n",
              "  </svg>\n",
              "    </button>\n",
              "\n",
              "  <style>\n",
              "    .colab-df-container {\n",
              "      display:flex;\n",
              "      gap: 12px;\n",
              "    }\n",
              "\n",
              "    .colab-df-convert {\n",
              "      background-color: #E8F0FE;\n",
              "      border: none;\n",
              "      border-radius: 50%;\n",
              "      cursor: pointer;\n",
              "      display: none;\n",
              "      fill: #1967D2;\n",
              "      height: 32px;\n",
              "      padding: 0 0 0 0;\n",
              "      width: 32px;\n",
              "    }\n",
              "\n",
              "    .colab-df-convert:hover {\n",
              "      background-color: #E2EBFA;\n",
              "      box-shadow: 0px 1px 2px rgba(60, 64, 67, 0.3), 0px 1px 3px 1px rgba(60, 64, 67, 0.15);\n",
              "      fill: #174EA6;\n",
              "    }\n",
              "\n",
              "    .colab-df-buttons div {\n",
              "      margin-bottom: 4px;\n",
              "    }\n",
              "\n",
              "    [theme=dark] .colab-df-convert {\n",
              "      background-color: #3B4455;\n",
              "      fill: #D2E3FC;\n",
              "    }\n",
              "\n",
              "    [theme=dark] .colab-df-convert:hover {\n",
              "      background-color: #434B5C;\n",
              "      box-shadow: 0px 1px 3px 1px rgba(0, 0, 0, 0.15);\n",
              "      filter: drop-shadow(0px 1px 2px rgba(0, 0, 0, 0.3));\n",
              "      fill: #FFFFFF;\n",
              "    }\n",
              "  </style>\n",
              "\n",
              "    <script>\n",
              "      const buttonEl =\n",
              "        document.querySelector('#df-205e258b-a0fa-4aa6-95e7-8bba2a43eda8 button.colab-df-convert');\n",
              "      buttonEl.style.display =\n",
              "        google.colab.kernel.accessAllowed ? 'block' : 'none';\n",
              "\n",
              "      async function convertToInteractive(key) {\n",
              "        const element = document.querySelector('#df-205e258b-a0fa-4aa6-95e7-8bba2a43eda8');\n",
              "        const dataTable =\n",
              "          await google.colab.kernel.invokeFunction('convertToInteractive',\n",
              "                                                    [key], {});\n",
              "        if (!dataTable) return;\n",
              "\n",
              "        const docLinkHtml = 'Like what you see? Visit the ' +\n",
              "          '<a target=\"_blank\" href=https://colab.research.google.com/notebooks/data_table.ipynb>data table notebook</a>'\n",
              "          + ' to learn more about interactive tables.';\n",
              "        element.innerHTML = '';\n",
              "        dataTable['output_type'] = 'display_data';\n",
              "        await google.colab.output.renderOutput(dataTable, element);\n",
              "        const docLink = document.createElement('div');\n",
              "        docLink.innerHTML = docLinkHtml;\n",
              "        element.appendChild(docLink);\n",
              "      }\n",
              "    </script>\n",
              "  </div>\n",
              "\n",
              "\n",
              "<div id=\"df-49b82588-a2fd-4f35-a9de-33f7834778db\">\n",
              "  <button class=\"colab-df-quickchart\" onclick=\"quickchart('df-49b82588-a2fd-4f35-a9de-33f7834778db')\"\n",
              "            title=\"Suggest charts\"\n",
              "            style=\"display:none;\">\n",
              "\n",
              "<svg xmlns=\"http://www.w3.org/2000/svg\" height=\"24px\"viewBox=\"0 0 24 24\"\n",
              "     width=\"24px\">\n",
              "    <g>\n",
              "        <path d=\"M19 3H5c-1.1 0-2 .9-2 2v14c0 1.1.9 2 2 2h14c1.1 0 2-.9 2-2V5c0-1.1-.9-2-2-2zM9 17H7v-7h2v7zm4 0h-2V7h2v10zm4 0h-2v-4h2v4z\"/>\n",
              "    </g>\n",
              "</svg>\n",
              "  </button>\n",
              "\n",
              "<style>\n",
              "  .colab-df-quickchart {\n",
              "      --bg-color: #E8F0FE;\n",
              "      --fill-color: #1967D2;\n",
              "      --hover-bg-color: #E2EBFA;\n",
              "      --hover-fill-color: #174EA6;\n",
              "      --disabled-fill-color: #AAA;\n",
              "      --disabled-bg-color: #DDD;\n",
              "  }\n",
              "\n",
              "  [theme=dark] .colab-df-quickchart {\n",
              "      --bg-color: #3B4455;\n",
              "      --fill-color: #D2E3FC;\n",
              "      --hover-bg-color: #434B5C;\n",
              "      --hover-fill-color: #FFFFFF;\n",
              "      --disabled-bg-color: #3B4455;\n",
              "      --disabled-fill-color: #666;\n",
              "  }\n",
              "\n",
              "  .colab-df-quickchart {\n",
              "    background-color: var(--bg-color);\n",
              "    border: none;\n",
              "    border-radius: 50%;\n",
              "    cursor: pointer;\n",
              "    display: none;\n",
              "    fill: var(--fill-color);\n",
              "    height: 32px;\n",
              "    padding: 0;\n",
              "    width: 32px;\n",
              "  }\n",
              "\n",
              "  .colab-df-quickchart:hover {\n",
              "    background-color: var(--hover-bg-color);\n",
              "    box-shadow: 0 1px 2px rgba(60, 64, 67, 0.3), 0 1px 3px 1px rgba(60, 64, 67, 0.15);\n",
              "    fill: var(--button-hover-fill-color);\n",
              "  }\n",
              "\n",
              "  .colab-df-quickchart-complete:disabled,\n",
              "  .colab-df-quickchart-complete:disabled:hover {\n",
              "    background-color: var(--disabled-bg-color);\n",
              "    fill: var(--disabled-fill-color);\n",
              "    box-shadow: none;\n",
              "  }\n",
              "\n",
              "  .colab-df-spinner {\n",
              "    border: 2px solid var(--fill-color);\n",
              "    border-color: transparent;\n",
              "    border-bottom-color: var(--fill-color);\n",
              "    animation:\n",
              "      spin 1s steps(1) infinite;\n",
              "  }\n",
              "\n",
              "  @keyframes spin {\n",
              "    0% {\n",
              "      border-color: transparent;\n",
              "      border-bottom-color: var(--fill-color);\n",
              "      border-left-color: var(--fill-color);\n",
              "    }\n",
              "    20% {\n",
              "      border-color: transparent;\n",
              "      border-left-color: var(--fill-color);\n",
              "      border-top-color: var(--fill-color);\n",
              "    }\n",
              "    30% {\n",
              "      border-color: transparent;\n",
              "      border-left-color: var(--fill-color);\n",
              "      border-top-color: var(--fill-color);\n",
              "      border-right-color: var(--fill-color);\n",
              "    }\n",
              "    40% {\n",
              "      border-color: transparent;\n",
              "      border-right-color: var(--fill-color);\n",
              "      border-top-color: var(--fill-color);\n",
              "    }\n",
              "    60% {\n",
              "      border-color: transparent;\n",
              "      border-right-color: var(--fill-color);\n",
              "    }\n",
              "    80% {\n",
              "      border-color: transparent;\n",
              "      border-right-color: var(--fill-color);\n",
              "      border-bottom-color: var(--fill-color);\n",
              "    }\n",
              "    90% {\n",
              "      border-color: transparent;\n",
              "      border-bottom-color: var(--fill-color);\n",
              "    }\n",
              "  }\n",
              "</style>\n",
              "\n",
              "  <script>\n",
              "    async function quickchart(key) {\n",
              "      const quickchartButtonEl =\n",
              "        document.querySelector('#' + key + ' button');\n",
              "      quickchartButtonEl.disabled = true;  // To prevent multiple clicks.\n",
              "      quickchartButtonEl.classList.add('colab-df-spinner');\n",
              "      try {\n",
              "        const charts = await google.colab.kernel.invokeFunction(\n",
              "            'suggestCharts', [key], {});\n",
              "      } catch (error) {\n",
              "        console.error('Error during call to suggestCharts:', error);\n",
              "      }\n",
              "      quickchartButtonEl.classList.remove('colab-df-spinner');\n",
              "      quickchartButtonEl.classList.add('colab-df-quickchart-complete');\n",
              "    }\n",
              "    (() => {\n",
              "      let quickchartButtonEl =\n",
              "        document.querySelector('#df-49b82588-a2fd-4f35-a9de-33f7834778db button');\n",
              "      quickchartButtonEl.style.display =\n",
              "        google.colab.kernel.accessAllowed ? 'block' : 'none';\n",
              "    })();\n",
              "  </script>\n",
              "</div>\n",
              "    </div>\n",
              "  </div>\n"
            ],
            "application/vnd.google.colaboratory.intrinsic+json": {
              "type": "dataframe",
              "repr_error": "'str' object has no attribute 'empty'"
            }
          },
          "metadata": {},
          "execution_count": 54
        }
      ]
    },
    {
      "cell_type": "markdown",
      "source": [
        "Можем удалить эти строки, так как нет вообще никакой информации.\n",
        "\n"
      ],
      "metadata": {
        "id": "nvBGuV9sQ3Y_"
      }
    },
    {
      "cell_type": "code",
      "source": [
        "# Удаление строк, в которых значение в столбце 'name' является пропущенным (NaN)\n",
        "marketing_product.dropna(subset=['name'], inplace=True)"
      ],
      "metadata": {
        "id": "jB_C0J0GQPgq"
      },
      "execution_count": 55,
      "outputs": []
    },
    {
      "cell_type": "code",
      "source": [
        "# Удаление строк, в которых значение в столбце 'name' равно пустой строке\n",
        "marketing_product = marketing_product[marketing_product.name != '   ']"
      ],
      "metadata": {
        "id": "XCoX7FRbQXVn"
      },
      "execution_count": 56,
      "outputs": []
    },
    {
      "cell_type": "code",
      "source": [
        "# Замена пропущенных значений в DataFrame 'marketing_product' строкой 'unknown'\n",
        "marketing_product.fillna('unknown', inplace=True)"
      ],
      "metadata": {
        "id": "GuE1ZjQWQmiO"
      },
      "execution_count": 57,
      "outputs": []
    },
    {
      "cell_type": "markdown",
      "source": [
        "В качестве корпуса названий для обучения можем использовать:\n",
        "* только название от производителя\n",
        "* объединить название от производителя 'name' и у других дилеров 'ozon_name', 'name_1c', 'wb_name'"
      ],
      "metadata": {
        "id": "Ha-356H5RJAS"
      }
    },
    {
      "cell_type": "markdown",
      "source": [
        "## Предобработка текста"
      ],
      "metadata": {
        "id": "J33pVNMTKvlN"
      }
    },
    {
      "cell_type": "markdown",
      "source": [
        "### Колонка marketingproduct.name"
      ],
      "metadata": {
        "id": "nq6c9z_LS1NE"
      }
    },
    {
      "cell_type": "code",
      "source": [
        "product_name = marketing_product.name\n",
        "# Переводим текст в нижний регистр\n",
        "product_name = product_name.apply(lambda x: x.lower())\n",
        "# Удаление знаков препинания\n",
        "product_name = product_name.apply(lambda x: re.sub('[%s]' % re.escape(string.punctuation+'«»–'), ' ', x))\n",
        "# Разделение на латиницу и кириллицу\n",
        "product_name = product_name.apply(lambda x: ' '.join(re.split(r'([a-zA-Z]+|[a-zA-Z]+)', x)))\n",
        "# Удаление лишних пробелов, замена ошибочных фрагментов и удаление слов с числами в product_name\n",
        "product_name = product_name.apply(lambda x: ' '.join(x.split()))\n",
        "product_name = product_name.apply(lambda x: x.replace(' редство', ' средство').replace('c ', ''))\n",
        "product_name = product_name.apply(lambda x: re.sub('\\w*\\d\\w*', '', x))"
      ],
      "metadata": {
        "id": "RO5o5JUEo3B6"
      },
      "execution_count": 58,
      "outputs": []
    },
    {
      "cell_type": "code",
      "source": [
        "# Расширение списка стоп-слов\n",
        "stop_words.extend(['что', 'это', 'так',\n",
        "                    'вот', 'быть', 'как',\n",
        "                    'в', 'к', 'за', 'из', 'из-за', 'с',\n",
        "                    'на', 'ок', 'кстати',\n",
        "                    'который', 'мочь', 'весь',\n",
        "                    'еще', 'также', 'свой',\n",
        "                    'ещё', 'самый', 'ул', 'главные', 'играет',\n",
        "                    'и','y', 'c', 'для', 'prosept', 'просепт',\n",
        "                    'для', 'средство' , 'кг', 'г', 'мл', 'л', 'шт' ])"
      ],
      "metadata": {
        "id": "1UJwyhWIS6Mv"
      },
      "execution_count": 59,
      "outputs": []
    },
    {
      "cell_type": "code",
      "source": [
        "# Функция для удаления стоп-слов из текста\n",
        "def remove_stopwords(text):\n",
        "    text = ' '.join(word for word in text.split() if word not in stop_words)\n",
        "    return text"
      ],
      "metadata": {
        "id": "tZwSGhejT5OX"
      },
      "execution_count": 60,
      "outputs": []
    },
    {
      "cell_type": "code",
      "source": [
        "# Применим функцию удаления стоп-слов к столбцу product_name\n",
        "product_name = product_name.apply(lambda x: remove_stopwords(x))\n",
        "product_name"
      ],
      "metadata": {
        "id": "uOknSFK9XqS7",
        "colab": {
          "base_uri": "https://localhost:8080/"
        },
        "outputId": "bf525268-1b78-4176-fb1f-1c25b02a52a2"
      },
      "execution_count": 61,
      "outputs": [
        {
          "output_type": "execute_result",
          "data": {
            "text/plain": [
              "0               антисептик невымываемый ultra концентрат\n",
              "1                             антигололед готовый состав\n",
              "2                      герметик акриловый цвет сосна ф п\n",
              "3      кондиционер белья ароматом королевского ириса ...\n",
              "4                          герметик акриловой цвет белый\n",
              "                             ...                        \n",
              "491    уборки помещений пожара дезинфицирующим эффект...\n",
              "492    жидкое моющее стирки шерсти шелка деликатных т...\n",
              "493    чистки гриля духовых шкафов cooky grill gel ко...\n",
              "494    мытья полов полимерным покрытием multipower br...\n",
              "495    усиленного действия удаления ржавчины минераль...\n",
              "Name: name, Length: 493, dtype: object"
            ]
          },
          "metadata": {},
          "execution_count": 61
        }
      ]
    },
    {
      "cell_type": "markdown",
      "source": [
        "### Колонка marketing_dealerprice.dealer_name"
      ],
      "metadata": {
        "id": "66Vt0o350F9f"
      }
    },
    {
      "cell_type": "code",
      "source": [
        "dealer_name = marketing_dealerprice.product_name\n",
        "# нижний регистр\n",
        "dealer_name = dealer_name.apply(lambda x: x.lower())\n",
        "# убираем знаки препинания\n",
        "dealer_name = dealer_name.apply(lambda x: re.sub('[%s]' % re.escape(string.punctuation+'«»–'), ' ', x))\n",
        "dealer_name = dealer_name.apply(lambda x: re.sub('\\s+\\d+', ' ', x))\n",
        "\n",
        "# лишние пробелы\n",
        "dealer_name = dealer_name.apply(lambda x: ' '.join(x.split()))\n",
        "dealer_name = dealer_name.apply(lambda x: remove_stopwords(x))\n",
        "dealer_name = dealer_name.apply(lambda x: ' '.join(x.split()))"
      ],
      "metadata": {
        "id": "hFo9TgOKzU8f"
      },
      "execution_count": 62,
      "outputs": []
    },
    {
      "cell_type": "code",
      "source": [
        "dealer_name[[14541, 14513, 15972, 15944]]"
      ],
      "metadata": {
        "id": "nUqFwP5W1G9-",
        "colab": {
          "base_uri": "https://localhost:8080/"
        },
        "outputId": "24507348-ae80-48b4-a6b3-17c8e69846af"
      },
      "execution_count": 63,
      "outputs": [
        {
          "output_type": "execute_result",
          "data": {
            "text/plain": [
              "id\n",
              "14541    антижук\n",
              "14513    плесени\n",
              "15972    антижук\n",
              "15944    плесени\n",
              "Name: product_name, dtype: object"
            ]
          },
          "metadata": {},
          "execution_count": 63
        }
      ]
    },
    {
      "cell_type": "code",
      "source": [
        "# Построение словаря стоимости, исходя из закон Ципфа\n",
        "words = open('/content/drive/MyDrive/Projects/Prosept/files/new_words.txt').read().split()\n",
        "wordcost = dict((k, log((i+1)*log(len(words)))) for i,k in enumerate(words))\n",
        "nums = ['0', '1', '2', '3', '4', '5', '6', '7', '8', '9']\n",
        "for n in nums:\n",
        "    wordcost[n] = log(2)\n",
        "maxword = max(len(x) for x in words)"
      ],
      "metadata": {
        "id": "2X31SenL1HZ3"
      },
      "execution_count": 64,
      "outputs": []
    },
    {
      "cell_type": "code",
      "source": [
        "# Функция  для предсказания расположения пробелов в строке без пробелов\n",
        "def infer_spaces(s):\n",
        "\n",
        "    # Функция возвращает пару (match_cost, match_length)\n",
        "    def best_match(i):\n",
        "        candidates = enumerate(reversed(cost[max(0, i-maxword):i]))\n",
        "        return min((c + wordcost.get(s[i-k-1:i], 9e999), k+1) for k,c in candidates)\n",
        "\n",
        "    # Построение массива стоимости\n",
        "    cost = [0]\n",
        "    for i in range(1,len(s)+1):\n",
        "        c,k = best_match(i)\n",
        "        cost.append(c)\n",
        "\n",
        "    # Восстановление строки с минимальной стоимостью\n",
        "    out = []\n",
        "    i = len(s)\n",
        "    while i>0:\n",
        "        c,k = best_match(i)\n",
        "        assert c == cost[i]\n",
        "        out.append(s[i-k:i])\n",
        "        i -= k\n",
        "\n",
        "    return \" \".join(reversed(out))"
      ],
      "metadata": {
        "id": "yH3CBMUw3yyk"
      },
      "execution_count": 65,
      "outputs": []
    },
    {
      "cell_type": "code",
      "source": [
        "# создание new_df, который содержит только  строки, где длина строки в столбце dealer_name менее двух слов.\n",
        "new_df = dealer_name[dealer_name.apply(lambda x:len(x.split())<2)]\n",
        "new_df"
      ],
      "metadata": {
        "id": "o7jNsz696-Cf",
        "colab": {
          "base_uri": "https://localhost:8080/"
        },
        "outputId": "5eb98a9b-9a42-47a4-95e9-7c8be42aebcd"
      },
      "execution_count": 66,
      "outputs": [
        {
          "output_type": "execute_result",
          "data": {
            "text/plain": [
              "id\n",
              "393                             плесени\n",
              "420                      антижукprosept\n",
              "421         антисептикproseptecoultra5л\n",
              "422           антисептикproseptecoultra\n",
              "423      антисептикproseptecoultraкор5л\n",
              "                      ...              \n",
              "15944                           плесени\n",
              "17702                           антижук\n",
              "17673                           плесени\n",
              "19268                           антижук\n",
              "19241                           плесени\n",
              "Name: product_name, Length: 184, dtype: object"
            ]
          },
          "metadata": {},
          "execution_count": 66
        }
      ]
    },
    {
      "cell_type": "code",
      "source": [
        "# Применяем функцию только к нужным строкам\n",
        "for i in new_df.index:\n",
        "    string = dealer_name.loc[i]\n",
        "    dealer_name.loc[i] = infer_spaces(string)"
      ],
      "metadata": {
        "id": "-qrBMzuv7HEP"
      },
      "execution_count": 67,
      "outputs": []
    },
    {
      "cell_type": "code",
      "source": [
        "dealer_name[new_df.index]"
      ],
      "metadata": {
        "id": "rw43jzIA7pYh",
        "colab": {
          "base_uri": "https://localhost:8080/"
        },
        "outputId": "d34100b3-bc5d-4cde-98c2-4cf236dbf44e"
      },
      "execution_count": 68,
      "outputs": [
        {
          "output_type": "execute_result",
          "data": {
            "text/plain": [
              "id\n",
              "393                                  плесени\n",
              "420                          антижук prosept\n",
              "421          антисептик prosept eco ultra 5л\n",
              "422             антисептик prosept eco ultra\n",
              "423      антисептик prosept eco ultra кор 5л\n",
              "                        ...                 \n",
              "15944                                плесени\n",
              "17702                                антижук\n",
              "17673                                плесени\n",
              "19268                                антижук\n",
              "19241                                плесени\n",
              "Name: product_name, Length: 184, dtype: object"
            ]
          },
          "metadata": {},
          "execution_count": 68
        }
      ]
    },
    {
      "cell_type": "code",
      "source": [
        "# Применяем функцию remove_stopwords ко всем значениям в столбце dealer_name\n",
        "dealer_name = dealer_name.apply(lambda x: remove_stopwords(x))\n",
        "dealer_name[516]"
      ],
      "metadata": {
        "id": "9XstJkl07r9Y",
        "colab": {
          "base_uri": "https://localhost:8080/",
          "height": 0
        },
        "outputId": "93f4398a-bf45-402c-cae6-56435cf6fe13"
      },
      "execution_count": 69,
      "outputs": [
        {
          "output_type": "execute_result",
          "data": {
            "text/plain": [
              "'лакдлякамняprosept053 полуматовый'"
            ],
            "application/vnd.google.colaboratory.intrinsic+json": {
              "type": "string"
            }
          },
          "metadata": {},
          "execution_count": 69
        }
      ]
    },
    {
      "cell_type": "code",
      "source": [
        "# Удаляем последовательности цифр, начинающиеся с пробела, из каждого значения в столбце dealer_name\n",
        "dealer_name = dealer_name.apply(lambda x: re.sub('\\s+\\d\\w*', '', x))\n",
        "dealer_name"
      ],
      "metadata": {
        "id": "KLPxMy-p8gIM",
        "colab": {
          "base_uri": "https://localhost:8080/"
        },
        "outputId": "aa65c4cb-c841-4ea1-a0da-3ce2f35061dc"
      },
      "execution_count": 70,
      "outputs": [
        {
          "output_type": "execute_result",
          "data": {
            "text/plain": [
              "id\n",
              "2                            универсальное universal spray\n",
              "3                 концентрат multipower мытья полов цитрус\n",
              "4                         чистки люстр universal anti dust\n",
              "5                          удалитель ржавчины rust remover\n",
              "6                        моющее бани сауны multipower wood\n",
              "                               ...                        \n",
              "20566    огнебиозащита древесины группа красный готовый...\n",
              "20567              антисептик многофункциональный фбс гост\n",
              "20568                                    удаления ржавчины\n",
              "20569    герметик акриловый межшовный деревянных констр...\n",
              "20570    краска грунт фасадная плит osb proff liquid ru...\n",
              "Name: product_name, Length: 20416, dtype: object"
            ]
          },
          "metadata": {},
          "execution_count": 70
        }
      ]
    },
    {
      "cell_type": "code",
      "source": [
        "# Убираем лишние пробелы в каждом значении столбца dealer_name\n",
        "dealer_name = dealer_name.apply(lambda x: ' '.join(x.split()))\n",
        "dealer_name"
      ],
      "metadata": {
        "id": "sZMi_An-8sO_",
        "colab": {
          "base_uri": "https://localhost:8080/"
        },
        "outputId": "07369aa6-27ec-47c6-f6c5-2d1adf4df373"
      },
      "execution_count": 71,
      "outputs": [
        {
          "output_type": "execute_result",
          "data": {
            "text/plain": [
              "id\n",
              "2                            универсальное universal spray\n",
              "3                 концентрат multipower мытья полов цитрус\n",
              "4                         чистки люстр universal anti dust\n",
              "5                          удалитель ржавчины rust remover\n",
              "6                        моющее бани сауны multipower wood\n",
              "                               ...                        \n",
              "20566    огнебиозащита древесины группа красный готовый...\n",
              "20567              антисептик многофункциональный фбс гост\n",
              "20568                                    удаления ржавчины\n",
              "20569    герметик акриловый межшовный деревянных констр...\n",
              "20570    краска грунт фасадная плит osb proff liquid ru...\n",
              "Name: product_name, Length: 20416, dtype: object"
            ]
          },
          "metadata": {},
          "execution_count": 71
        }
      ]
    },
    {
      "cell_type": "markdown",
      "source": [
        "## Эмббединги"
      ],
      "metadata": {
        "id": "kbbAVi-T9VXT"
      }
    },
    {
      "cell_type": "code",
      "source": [
        "from sentence_transformers import SentenceTransformer, util"
      ],
      "metadata": {
        "id": "mR64CBsf1JSf"
      },
      "execution_count": 72,
      "outputs": []
    },
    {
      "cell_type": "code",
      "source": [
        "# Загружаем предварительно обученную модель SentenceTransformer LaBSE\n",
        "model = SentenceTransformer('sentence-transformers/LaBSE')"
      ],
      "metadata": {
        "id": "HziaqtKl9L66"
      },
      "execution_count": 73,
      "outputs": []
    },
    {
      "cell_type": "code",
      "source": [
        "# Получение векторных представлений для наименований товаров\n",
        "corpus_embeddings = model.encode(product_name.values, convert_to_tensor=True)\n",
        "corpus_embeddings"
      ],
      "metadata": {
        "id": "Dx64zzK2_DPi",
        "colab": {
          "base_uri": "https://localhost:8080/"
        },
        "outputId": "0f929218-0917-4f4a-d99e-6f204c70810b"
      },
      "execution_count": 74,
      "outputs": [
        {
          "output_type": "execute_result",
          "data": {
            "text/plain": [
              "tensor([[-0.0032,  0.0057,  0.0093,  ..., -0.0007, -0.0031, -0.0560],\n",
              "        [ 0.0137, -0.0172,  0.0459,  ...,  0.0245, -0.0400, -0.0686],\n",
              "        [ 0.0108, -0.0338,  0.0310,  ...,  0.0234, -0.0147, -0.0107],\n",
              "        ...,\n",
              "        [ 0.0632, -0.0680, -0.0642,  ..., -0.0078,  0.0088, -0.0261],\n",
              "        [-0.0019,  0.0185,  0.0328,  ..., -0.0246,  0.0175, -0.0368],\n",
              "        [ 0.0027, -0.0097,  0.0122,  ..., -0.0026,  0.0352, -0.0238]])"
            ]
          },
          "metadata": {},
          "execution_count": 74
        }
      ]
    },
    {
      "cell_type": "code",
      "source": [
        "# Получение векторного представления запроса с использованием модели LaBSE\n",
        "query = dealer_name[2679]\n",
        "query_embedding = model.encode(query, convert_to_tensor=True)"
      ],
      "metadata": {
        "id": "NE1LeJGG_ggM"
      },
      "execution_count": 75,
      "outputs": []
    },
    {
      "cell_type": "code",
      "source": [
        "# Используем cosine-similarity и torch.topk для поиска пяти наилучших результатов\n",
        "cos_scores = util.pytorch_cos_sim(query_embedding, corpus_embeddings)[0]\n",
        "top_results = torch.topk(cos_scores, k=5)\n",
        "\n",
        "# Выводим запрос и пять наиболее похожих предложений\n",
        "print(\"\\n======================\\n\")\n",
        "print(\"Запрос:\", query)\n",
        "print(\"\\nТоп 5 наиболее похожих предложений в корпусе:\")\n",
        "\n",
        "# Извлекаем индексы и оценки лучших результатов\n",
        "best_idx = []\n",
        "for score, idx in zip(top_results[0], top_results[1]):\n",
        "    score = score.cpu().data.numpy()\n",
        "    idx = idx.cpu().data.numpy()\n",
        "    best_idx.append(idx)\n",
        "\n",
        "# Выводим индексы лучших результатов\n",
        "print(best_idx)\n",
        "\n",
        "# Извлекаем и отображаем рекомендуемые строки из marketing_product\n",
        "recommendations = marketing_product.iloc[best_idx]\n",
        "recommendations"
      ],
      "metadata": {
        "colab": {
          "base_uri": "https://localhost:8080/",
          "height": 612
        },
        "id": "Pv4-16eHALsa",
        "outputId": "4ed07591-6d68-43ff-8f91-8d5c9b1172db"
      },
      "execution_count": 76,
      "outputs": [
        {
          "output_type": "stream",
          "name": "stdout",
          "text": [
            "\n",
            "======================\n",
            "\n",
            "Запрос: устранения засоров bath prof концентрат\n",
            "\n",
            "Топ 5 наиболее похожих предложений в корпусе:\n",
            "[array(130), array(474), array(326), array(443), array(432)]\n"
          ]
        },
        {
          "output_type": "execute_result",
          "data": {
            "text/plain": [
              "     id  article           ean_13  \\\n",
              "133  59  111-075  4680008146786.0   \n",
              "477  61    111-5  4680008141354.0   \n",
              "329  60    111-1  4680008141644.0   \n",
              "446   5    104-5  4680008141767.0   \n",
              "435   4    104-1  4680008141750.0   \n",
              "\n",
              "                                                  name    cost  \\\n",
              "133  Средство для устранения засоров в трубахBath P...   76.78   \n",
              "477  Средство для устранения засоров в трубахBath P...   409.0   \n",
              "329  Средство для устранения засоров в трубахBath P...   102.0   \n",
              "446  Универсальное моющее средствоUniversal Prof  к...  601.76   \n",
              "435  Универсальное моющее средствоUniversal Prof  к...   150.0   \n",
              "\n",
              "    recommended_price category_id  \\\n",
              "133             180.0        45.0   \n",
              "477             956.0        45.0   \n",
              "329             239.0        45.0   \n",
              "446            1405.0        56.0   \n",
              "435             352.0        56.0   \n",
              "\n",
              "                                             ozon_name  \\\n",
              "133  Средство для устранения засоров в трубахBath P...   \n",
              "477  Средство для прочистки труб от засоров PROSEPT...   \n",
              "329  Средство для прочистки труб от засоров PROSEPT...   \n",
              "446  Профессиональное универсальное моющее средство...   \n",
              "435  Профессиональное универсальное моющее средство...   \n",
              "\n",
              "                                               name_1c  \\\n",
              "133  Средство для устранения засоров в трубахBath P...   \n",
              "477  Средство для прочистки труб от засоров PROSEPT...   \n",
              "329  Средство для прочистки труб от засоров PROSEPT...   \n",
              "446  Профессиональное универсальное моющее средство...   \n",
              "435  Профессиональное универсальное моющее средство...   \n",
              "\n",
              "                                               wb_name ozon_article  \\\n",
              "133  Средство для устранения засоров в трубахBath P...      unknown   \n",
              "477  Средство для прочистки труб от засоров PROSEPT...  411379449.0   \n",
              "329  Средство для прочистки труб от засоров PROSEPT...  411379450.0   \n",
              "446  Профессиональное универсальное моющее средство...  449915356.0   \n",
              "435  Профессиональное универсальное моющее средство...  449915357.0   \n",
              "\n",
              "      wb_article ym_article wb_article_td  \n",
              "133      unknown    unknown       unknown  \n",
              "477  150033031.0      111-5        111-50  \n",
              "329  150033032.0      111-1        111-10  \n",
              "446  149811051.0      104-5       unknown  \n",
              "435  149811058.0      104-1       unknown  "
            ],
            "text/html": [
              "\n",
              "  <div id=\"df-33e65010-a8e7-420c-b84d-b698cd7ae7d1\" class=\"colab-df-container\">\n",
              "    <div>\n",
              "<style scoped>\n",
              "    .dataframe tbody tr th:only-of-type {\n",
              "        vertical-align: middle;\n",
              "    }\n",
              "\n",
              "    .dataframe tbody tr th {\n",
              "        vertical-align: top;\n",
              "    }\n",
              "\n",
              "    .dataframe thead th {\n",
              "        text-align: right;\n",
              "    }\n",
              "</style>\n",
              "<table border=\"1\" class=\"dataframe\">\n",
              "  <thead>\n",
              "    <tr style=\"text-align: right;\">\n",
              "      <th></th>\n",
              "      <th>id</th>\n",
              "      <th>article</th>\n",
              "      <th>ean_13</th>\n",
              "      <th>name</th>\n",
              "      <th>cost</th>\n",
              "      <th>recommended_price</th>\n",
              "      <th>category_id</th>\n",
              "      <th>ozon_name</th>\n",
              "      <th>name_1c</th>\n",
              "      <th>wb_name</th>\n",
              "      <th>ozon_article</th>\n",
              "      <th>wb_article</th>\n",
              "      <th>ym_article</th>\n",
              "      <th>wb_article_td</th>\n",
              "    </tr>\n",
              "  </thead>\n",
              "  <tbody>\n",
              "    <tr>\n",
              "      <th>133</th>\n",
              "      <td>59</td>\n",
              "      <td>111-075</td>\n",
              "      <td>4680008146786.0</td>\n",
              "      <td>Средство для устранения засоров в трубахBath P...</td>\n",
              "      <td>76.78</td>\n",
              "      <td>180.0</td>\n",
              "      <td>45.0</td>\n",
              "      <td>Средство для устранения засоров в трубахBath P...</td>\n",
              "      <td>Средство для устранения засоров в трубахBath P...</td>\n",
              "      <td>Средство для устранения засоров в трубахBath P...</td>\n",
              "      <td>unknown</td>\n",
              "      <td>unknown</td>\n",
              "      <td>unknown</td>\n",
              "      <td>unknown</td>\n",
              "    </tr>\n",
              "    <tr>\n",
              "      <th>477</th>\n",
              "      <td>61</td>\n",
              "      <td>111-5</td>\n",
              "      <td>4680008141354.0</td>\n",
              "      <td>Средство для устранения засоров в трубахBath P...</td>\n",
              "      <td>409.0</td>\n",
              "      <td>956.0</td>\n",
              "      <td>45.0</td>\n",
              "      <td>Средство для прочистки труб от засоров PROSEPT...</td>\n",
              "      <td>Средство для прочистки труб от засоров PROSEPT...</td>\n",
              "      <td>Средство для прочистки труб от засоров PROSEPT...</td>\n",
              "      <td>411379449.0</td>\n",
              "      <td>150033031.0</td>\n",
              "      <td>111-5</td>\n",
              "      <td>111-50</td>\n",
              "    </tr>\n",
              "    <tr>\n",
              "      <th>329</th>\n",
              "      <td>60</td>\n",
              "      <td>111-1</td>\n",
              "      <td>4680008141644.0</td>\n",
              "      <td>Средство для устранения засоров в трубахBath P...</td>\n",
              "      <td>102.0</td>\n",
              "      <td>239.0</td>\n",
              "      <td>45.0</td>\n",
              "      <td>Средство для прочистки труб от засоров PROSEPT...</td>\n",
              "      <td>Средство для прочистки труб от засоров PROSEPT...</td>\n",
              "      <td>Средство для прочистки труб от засоров PROSEPT...</td>\n",
              "      <td>411379450.0</td>\n",
              "      <td>150033032.0</td>\n",
              "      <td>111-1</td>\n",
              "      <td>111-10</td>\n",
              "    </tr>\n",
              "    <tr>\n",
              "      <th>446</th>\n",
              "      <td>5</td>\n",
              "      <td>104-5</td>\n",
              "      <td>4680008141767.0</td>\n",
              "      <td>Универсальное моющее средствоUniversal Prof  к...</td>\n",
              "      <td>601.76</td>\n",
              "      <td>1405.0</td>\n",
              "      <td>56.0</td>\n",
              "      <td>Профессиональное универсальное моющее средство...</td>\n",
              "      <td>Профессиональное универсальное моющее средство...</td>\n",
              "      <td>Профессиональное универсальное моющее средство...</td>\n",
              "      <td>449915356.0</td>\n",
              "      <td>149811051.0</td>\n",
              "      <td>104-5</td>\n",
              "      <td>unknown</td>\n",
              "    </tr>\n",
              "    <tr>\n",
              "      <th>435</th>\n",
              "      <td>4</td>\n",
              "      <td>104-1</td>\n",
              "      <td>4680008141750.0</td>\n",
              "      <td>Универсальное моющее средствоUniversal Prof  к...</td>\n",
              "      <td>150.0</td>\n",
              "      <td>352.0</td>\n",
              "      <td>56.0</td>\n",
              "      <td>Профессиональное универсальное моющее средство...</td>\n",
              "      <td>Профессиональное универсальное моющее средство...</td>\n",
              "      <td>Профессиональное универсальное моющее средство...</td>\n",
              "      <td>449915357.0</td>\n",
              "      <td>149811058.0</td>\n",
              "      <td>104-1</td>\n",
              "      <td>unknown</td>\n",
              "    </tr>\n",
              "  </tbody>\n",
              "</table>\n",
              "</div>\n",
              "    <div class=\"colab-df-buttons\">\n",
              "\n",
              "  <div class=\"colab-df-container\">\n",
              "    <button class=\"colab-df-convert\" onclick=\"convertToInteractive('df-33e65010-a8e7-420c-b84d-b698cd7ae7d1')\"\n",
              "            title=\"Convert this dataframe to an interactive table.\"\n",
              "            style=\"display:none;\">\n",
              "\n",
              "  <svg xmlns=\"http://www.w3.org/2000/svg\" height=\"24px\" viewBox=\"0 -960 960 960\">\n",
              "    <path d=\"M120-120v-720h720v720H120Zm60-500h600v-160H180v160Zm220 220h160v-160H400v160Zm0 220h160v-160H400v160ZM180-400h160v-160H180v160Zm440 0h160v-160H620v160ZM180-180h160v-160H180v160Zm440 0h160v-160H620v160Z\"/>\n",
              "  </svg>\n",
              "    </button>\n",
              "\n",
              "  <style>\n",
              "    .colab-df-container {\n",
              "      display:flex;\n",
              "      gap: 12px;\n",
              "    }\n",
              "\n",
              "    .colab-df-convert {\n",
              "      background-color: #E8F0FE;\n",
              "      border: none;\n",
              "      border-radius: 50%;\n",
              "      cursor: pointer;\n",
              "      display: none;\n",
              "      fill: #1967D2;\n",
              "      height: 32px;\n",
              "      padding: 0 0 0 0;\n",
              "      width: 32px;\n",
              "    }\n",
              "\n",
              "    .colab-df-convert:hover {\n",
              "      background-color: #E2EBFA;\n",
              "      box-shadow: 0px 1px 2px rgba(60, 64, 67, 0.3), 0px 1px 3px 1px rgba(60, 64, 67, 0.15);\n",
              "      fill: #174EA6;\n",
              "    }\n",
              "\n",
              "    .colab-df-buttons div {\n",
              "      margin-bottom: 4px;\n",
              "    }\n",
              "\n",
              "    [theme=dark] .colab-df-convert {\n",
              "      background-color: #3B4455;\n",
              "      fill: #D2E3FC;\n",
              "    }\n",
              "\n",
              "    [theme=dark] .colab-df-convert:hover {\n",
              "      background-color: #434B5C;\n",
              "      box-shadow: 0px 1px 3px 1px rgba(0, 0, 0, 0.15);\n",
              "      filter: drop-shadow(0px 1px 2px rgba(0, 0, 0, 0.3));\n",
              "      fill: #FFFFFF;\n",
              "    }\n",
              "  </style>\n",
              "\n",
              "    <script>\n",
              "      const buttonEl =\n",
              "        document.querySelector('#df-33e65010-a8e7-420c-b84d-b698cd7ae7d1 button.colab-df-convert');\n",
              "      buttonEl.style.display =\n",
              "        google.colab.kernel.accessAllowed ? 'block' : 'none';\n",
              "\n",
              "      async function convertToInteractive(key) {\n",
              "        const element = document.querySelector('#df-33e65010-a8e7-420c-b84d-b698cd7ae7d1');\n",
              "        const dataTable =\n",
              "          await google.colab.kernel.invokeFunction('convertToInteractive',\n",
              "                                                    [key], {});\n",
              "        if (!dataTable) return;\n",
              "\n",
              "        const docLinkHtml = 'Like what you see? Visit the ' +\n",
              "          '<a target=\"_blank\" href=https://colab.research.google.com/notebooks/data_table.ipynb>data table notebook</a>'\n",
              "          + ' to learn more about interactive tables.';\n",
              "        element.innerHTML = '';\n",
              "        dataTable['output_type'] = 'display_data';\n",
              "        await google.colab.output.renderOutput(dataTable, element);\n",
              "        const docLink = document.createElement('div');\n",
              "        docLink.innerHTML = docLinkHtml;\n",
              "        element.appendChild(docLink);\n",
              "      }\n",
              "    </script>\n",
              "  </div>\n",
              "\n",
              "\n",
              "<div id=\"df-ef5a8678-48ea-44b8-88f1-b0f1601b859c\">\n",
              "  <button class=\"colab-df-quickchart\" onclick=\"quickchart('df-ef5a8678-48ea-44b8-88f1-b0f1601b859c')\"\n",
              "            title=\"Suggest charts\"\n",
              "            style=\"display:none;\">\n",
              "\n",
              "<svg xmlns=\"http://www.w3.org/2000/svg\" height=\"24px\"viewBox=\"0 0 24 24\"\n",
              "     width=\"24px\">\n",
              "    <g>\n",
              "        <path d=\"M19 3H5c-1.1 0-2 .9-2 2v14c0 1.1.9 2 2 2h14c1.1 0 2-.9 2-2V5c0-1.1-.9-2-2-2zM9 17H7v-7h2v7zm4 0h-2V7h2v10zm4 0h-2v-4h2v4z\"/>\n",
              "    </g>\n",
              "</svg>\n",
              "  </button>\n",
              "\n",
              "<style>\n",
              "  .colab-df-quickchart {\n",
              "      --bg-color: #E8F0FE;\n",
              "      --fill-color: #1967D2;\n",
              "      --hover-bg-color: #E2EBFA;\n",
              "      --hover-fill-color: #174EA6;\n",
              "      --disabled-fill-color: #AAA;\n",
              "      --disabled-bg-color: #DDD;\n",
              "  }\n",
              "\n",
              "  [theme=dark] .colab-df-quickchart {\n",
              "      --bg-color: #3B4455;\n",
              "      --fill-color: #D2E3FC;\n",
              "      --hover-bg-color: #434B5C;\n",
              "      --hover-fill-color: #FFFFFF;\n",
              "      --disabled-bg-color: #3B4455;\n",
              "      --disabled-fill-color: #666;\n",
              "  }\n",
              "\n",
              "  .colab-df-quickchart {\n",
              "    background-color: var(--bg-color);\n",
              "    border: none;\n",
              "    border-radius: 50%;\n",
              "    cursor: pointer;\n",
              "    display: none;\n",
              "    fill: var(--fill-color);\n",
              "    height: 32px;\n",
              "    padding: 0;\n",
              "    width: 32px;\n",
              "  }\n",
              "\n",
              "  .colab-df-quickchart:hover {\n",
              "    background-color: var(--hover-bg-color);\n",
              "    box-shadow: 0 1px 2px rgba(60, 64, 67, 0.3), 0 1px 3px 1px rgba(60, 64, 67, 0.15);\n",
              "    fill: var(--button-hover-fill-color);\n",
              "  }\n",
              "\n",
              "  .colab-df-quickchart-complete:disabled,\n",
              "  .colab-df-quickchart-complete:disabled:hover {\n",
              "    background-color: var(--disabled-bg-color);\n",
              "    fill: var(--disabled-fill-color);\n",
              "    box-shadow: none;\n",
              "  }\n",
              "\n",
              "  .colab-df-spinner {\n",
              "    border: 2px solid var(--fill-color);\n",
              "    border-color: transparent;\n",
              "    border-bottom-color: var(--fill-color);\n",
              "    animation:\n",
              "      spin 1s steps(1) infinite;\n",
              "  }\n",
              "\n",
              "  @keyframes spin {\n",
              "    0% {\n",
              "      border-color: transparent;\n",
              "      border-bottom-color: var(--fill-color);\n",
              "      border-left-color: var(--fill-color);\n",
              "    }\n",
              "    20% {\n",
              "      border-color: transparent;\n",
              "      border-left-color: var(--fill-color);\n",
              "      border-top-color: var(--fill-color);\n",
              "    }\n",
              "    30% {\n",
              "      border-color: transparent;\n",
              "      border-left-color: var(--fill-color);\n",
              "      border-top-color: var(--fill-color);\n",
              "      border-right-color: var(--fill-color);\n",
              "    }\n",
              "    40% {\n",
              "      border-color: transparent;\n",
              "      border-right-color: var(--fill-color);\n",
              "      border-top-color: var(--fill-color);\n",
              "    }\n",
              "    60% {\n",
              "      border-color: transparent;\n",
              "      border-right-color: var(--fill-color);\n",
              "    }\n",
              "    80% {\n",
              "      border-color: transparent;\n",
              "      border-right-color: var(--fill-color);\n",
              "      border-bottom-color: var(--fill-color);\n",
              "    }\n",
              "    90% {\n",
              "      border-color: transparent;\n",
              "      border-bottom-color: var(--fill-color);\n",
              "    }\n",
              "  }\n",
              "</style>\n",
              "\n",
              "  <script>\n",
              "    async function quickchart(key) {\n",
              "      const quickchartButtonEl =\n",
              "        document.querySelector('#' + key + ' button');\n",
              "      quickchartButtonEl.disabled = true;  // To prevent multiple clicks.\n",
              "      quickchartButtonEl.classList.add('colab-df-spinner');\n",
              "      try {\n",
              "        const charts = await google.colab.kernel.invokeFunction(\n",
              "            'suggestCharts', [key], {});\n",
              "      } catch (error) {\n",
              "        console.error('Error during call to suggestCharts:', error);\n",
              "      }\n",
              "      quickchartButtonEl.classList.remove('colab-df-spinner');\n",
              "      quickchartButtonEl.classList.add('colab-df-quickchart-complete');\n",
              "    }\n",
              "    (() => {\n",
              "      let quickchartButtonEl =\n",
              "        document.querySelector('#df-ef5a8678-48ea-44b8-88f1-b0f1601b859c button');\n",
              "      quickchartButtonEl.style.display =\n",
              "        google.colab.kernel.accessAllowed ? 'block' : 'none';\n",
              "    })();\n",
              "  </script>\n",
              "</div>\n",
              "    </div>\n",
              "  </div>\n"
            ],
            "application/vnd.google.colaboratory.intrinsic+json": {
              "type": "dataframe",
              "variable_name": "recommendations",
              "repr_error": "'str' object has no attribute 'empty'"
            }
          },
          "metadata": {},
          "execution_count": 76
        }
      ]
    },
    {
      "cell_type": "markdown",
      "source": [
        "## Метрика"
      ],
      "metadata": {
        "id": "N4_ROpChBE7K"
      }
    },
    {
      "cell_type": "code",
      "source": [
        "# Функция для вычисления точности для топ-k рекомендаций\n",
        "def accuracy_k(scores: List[int]) -> float:\n",
        "     return round(sum(scores) / len(scores), 2)"
      ],
      "metadata": {
        "id": "khKqxZ7EBG7_"
      },
      "execution_count": 77,
      "outputs": []
    },
    {
      "cell_type": "code",
      "source": [
        "from typing import List"
      ],
      "metadata": {
        "id": "1iY7dqtG1ln1"
      },
      "execution_count": 78,
      "outputs": []
    },
    {
      "cell_type": "code",
      "source": [
        "# Функция get_recommendations для получения рекомендаций\n",
        "def get_recommendations(model, corpus_embeddings, dealer_names, dealer_product_key, k=3) -> List[int]:\n",
        "\n",
        "    query = dealer_names[dealer_product_key]\n",
        "    query_embedding = model.encode(query, convert_to_tensor=True)\n",
        "\n",
        "    cos_scores = util.pytorch_cos_sim(query_embedding, corpus_embeddings)[0]\n",
        "    top_results = torch.topk(cos_scores, k=k)\n",
        "\n",
        "    best_idx = []\n",
        "\n",
        "    for score, idx in zip(top_results[0], top_results[1]):\n",
        "        score = score.cpu().data.numpy()\n",
        "        idx = idx.cpu().data.numpy()\n",
        "        best_idx.append(idx)\n",
        "\n",
        "    return best_idx"
      ],
      "metadata": {
        "id": "XBbJtBtDBfYb"
      },
      "execution_count": 79,
      "outputs": []
    },
    {
      "cell_type": "code",
      "source": [
        "# Функция recommendations_for_metric для оценки точности рекомендаций\n",
        "def recommendations_for_metric(model, dealer_names, corpus_embeddings, k=3) -> List[bool]:\n",
        "\n",
        "    scores = []\n",
        "    false = []\n",
        "    empty_result = []\n",
        "    for idx in tqdm(dealer_names.index):\n",
        "\n",
        "        product_key = marketing_dealerprice.product_key[idx]\n",
        "        dealer_id = marketing_dealerprice.dealer_id[idx]\n",
        "        true_id = marketing_productdealerkey[(marketing_productdealerkey.dealer_id == dealer_id) & (marketing_productdealerkey.key == product_key)]['product_id'].values\n",
        "        if not true_id:\n",
        "            empty_result.append(idx)\n",
        "        else:\n",
        "            best_idx = get_recommendations(model, corpus_embeddings, dealer_names, idx, k)\n",
        "\n",
        "            recom_product_id = [x for x in marketing_product.id.iloc[best_idx]]\n",
        "\n",
        "            score = any(i == true_id for i in recom_product_id)\n",
        "            if not score:\n",
        "                false.append(idx)\n",
        "            scores.append(score)\n",
        "\n",
        "    return empty_result, false, scores"
      ],
      "metadata": {
        "id": "1uxPCbiiQ5ou"
      },
      "execution_count": 80,
      "outputs": []
    },
    {
      "cell_type": "code",
      "source": [
        "empty_result, false, scores = recommendations_for_metric(model, dealer_name, corpus_embeddings, k=5)"
      ],
      "metadata": {
        "colab": {
          "base_uri": "https://localhost:8080/"
        },
        "id": "ciLJMD8djTgZ",
        "outputId": "e714fe00-5c19-4dd6-c83e-e22ff033d6c4"
      },
      "execution_count": 81,
      "outputs": [
        {
          "output_type": "stream",
          "name": "stderr",
          "text": [
            "  3%|▎         | 513/20416 [01:07<59:35,  5.57it/s]<ipython-input-80-c9a29b773efa>:12: DeprecationWarning: The truth value of an empty array is ambiguous. Returning False, but in future this will result in an error. Use `array.size > 0` to check that an array is not empty.\n",
            "  if not true_id:\n",
            "100%|██████████| 20416/20416 [37:55<00:00,  8.97it/s]\n"
          ]
        }
      ]
    },
    {
      "cell_type": "code",
      "source": [
        "# Рассмотрим строки в которых получили false\n",
        "dealer_name[false]"
      ],
      "metadata": {
        "colab": {
          "base_uri": "https://localhost:8080/"
        },
        "id": "HG-elfCbT52u",
        "outputId": "e93f08b6-f810-431a-81d3-d4179c163207"
      },
      "execution_count": 82,
      "outputs": [
        {
          "output_type": "execute_result",
          "data": {
            "text/plain": [
              "id\n",
              "10         шпаклевка выравнивающая акриловая plastix белая\n",
              "13       антисептик eco ultra невымываемый коричневый г...\n",
              "19       огнебиозащита prof группа наружных внутренних ...\n",
              "27       антисептик eco ultra невымываемый коричневый г...\n",
              "44       удаления ржавчины минеральных отложений bath a...\n",
              "                               ...                        \n",
              "20511    герметик акриловый межшовный деревянных констр...\n",
              "20520    герметик акриловый межшовный деревянных констр...\n",
              "20528    герметик акриловый межшовный деревянных констр...\n",
              "20536                 строительный антисептик невымываемый\n",
              "20537    герметик акриловый межшовный деревянных констр...\n",
              "Name: product_name, Length: 2237, dtype: object"
            ]
          },
          "metadata": {},
          "execution_count": 82
        }
      ]
    },
    {
      "cell_type": "code",
      "source": [
        "print(marketing_dealerprice.product_name.loc[27])\n",
        "print(dealer_name[27])"
      ],
      "metadata": {
        "colab": {
          "base_uri": "https://localhost:8080/"
        },
        "id": "CC4Esn9WT_Ui",
        "outputId": "aff34fc5-879a-4bdc-c69e-c4723e1dab61"
      },
      "execution_count": 83,
      "outputs": [
        {
          "output_type": "stream",
          "name": "stdout",
          "text": [
            "Антисептик PROSEPT Eco Ultra невымываемый, коричневый, готовый состав 10л\n",
            "антисептик eco ultra невымываемый коричневый готовый состав\n"
          ]
        }
      ]
    },
    {
      "cell_type": "code",
      "source": [
        "# Применим функцию get_recommendations чтобы получить рекомендации\n",
        "best_idx = get_recommendations(model, corpus_embeddings, dealer_name, 27, k=3)\n",
        "# recommendations = marketing_product.iloc[best_idx]\n",
        "# recommendations"
      ],
      "metadata": {
        "id": "mwfKtSJZUrsw"
      },
      "execution_count": 84,
      "outputs": []
    },
    {
      "cell_type": "code",
      "source": [
        "print(best_idx)"
      ],
      "metadata": {
        "colab": {
          "base_uri": "https://localhost:8080/"
        },
        "id": "ToVoGmoX29qM",
        "outputId": "545c2fdf-9fc4-4da6-e43f-e303a9363211"
      },
      "execution_count": 85,
      "outputs": [
        {
          "output_type": "stream",
          "name": "stdout",
          "text": [
            "[array(342), array(334), array(139)]\n"
          ]
        }
      ]
    },
    {
      "cell_type": "code",
      "source": [
        "best_idx[0]"
      ],
      "metadata": {
        "colab": {
          "base_uri": "https://localhost:8080/"
        },
        "id": "jJqUKu528Ado",
        "outputId": "63794aee-00f9-48ca-aa30-403da61d85ab"
      },
      "execution_count": 86,
      "outputs": [
        {
          "output_type": "execute_result",
          "data": {
            "text/plain": [
              "array(342)"
            ]
          },
          "metadata": {},
          "execution_count": 86
        }
      ]
    },
    {
      "cell_type": "code",
      "source": [
        "lambda_best_idx = lambda i:int(best_idx[i])"
      ],
      "metadata": {
        "id": "XIbuKC8l9vVZ"
      },
      "execution_count": 87,
      "outputs": []
    },
    {
      "cell_type": "code",
      "source": [
        "print(best_idx)"
      ],
      "metadata": {
        "colab": {
          "base_uri": "https://localhost:8080/"
        },
        "id": "-rhbhBtr-V2L",
        "outputId": "2c2c074e-cebd-4c2e-902b-1fbde125cb73"
      },
      "execution_count": 89,
      "outputs": [
        {
          "output_type": "stream",
          "name": "stdout",
          "text": [
            "[array(342), array(334), array(139)]\n"
          ]
        }
      ]
    },
    {
      "cell_type": "code",
      "source": [
        "best_idx[0] = int(best_idx[0])\n",
        "best_idx"
      ],
      "metadata": {
        "colab": {
          "base_uri": "https://localhost:8080/"
        },
        "id": "9wiP9IS17u38",
        "outputId": "536111f1-d830-4b95-991c-9d62110e84e0"
      },
      "execution_count": 90,
      "outputs": [
        {
          "output_type": "execute_result",
          "data": {
            "text/plain": [
              "[342, array(334), array(139)]"
            ]
          },
          "metadata": {},
          "execution_count": 90
        }
      ]
    },
    {
      "cell_type": "code",
      "source": [
        "# Для заданного product_key и dealer_id находим соответствующий product_id в marketing_productdealerkey\n",
        "product_key = marketing_dealerprice.product_key[27]\n",
        "dealer_id = marketing_dealerprice.dealer_id[27]\n",
        "true_id = marketing_productdealerkey[(marketing_productdealerkey.dealer_id==dealer_id) & (marketing_productdealerkey.key==product_key)]['product_id'].values\n",
        "true_id"
      ],
      "metadata": {
        "colab": {
          "base_uri": "https://localhost:8080/"
        },
        "id": "RS5-G3liU-8x",
        "outputId": "e583064d-158e-497f-c74d-1fb89e077929"
      },
      "execution_count": 91,
      "outputs": [
        {
          "output_type": "execute_result",
          "data": {
            "text/plain": [
              "array([276])"
            ]
          },
          "metadata": {},
          "execution_count": 91
        }
      ]
    },
    {
      "cell_type": "code",
      "source": [
        "marketing_product[marketing_product.id==276]"
      ],
      "metadata": {
        "colab": {
          "base_uri": "https://localhost:8080/",
          "height": 170
        },
        "id": "C9UzM7vpXRGM",
        "outputId": "1f5abe54-b311-43e4-a78a-2a5a18454d77"
      },
      "execution_count": 92,
      "outputs": [
        {
          "output_type": "execute_result",
          "data": {
            "text/plain": [
              "      id article           ean_13                                     name  \\\n",
              "191  276  062-10  4680008148995.0  Антисептик ECO ULTRA, коричневый / 10 л   \n",
              "\n",
              "      cost recommended_price category_id  \\\n",
              "191  476.0            1136.0        20.0   \n",
              "\n",
              "                                            ozon_name  \\\n",
              "191  Антисептик невымываемый PROSEPT ECO ULTRA, 10 л.   \n",
              "\n",
              "                                     name_1c  \\\n",
              "191  Антисептик ECO ULTRA, коричневый / 10 л   \n",
              "\n",
              "                                              wb_name ozon_article  \\\n",
              "191  Антисептик невымываемый PROSEPT ECO ULTRA, 10 л.  253565305.0   \n",
              "\n",
              "      wb_article ym_article wb_article_td  \n",
              "191  150033477.0     062-10       unknown  "
            ],
            "text/html": [
              "\n",
              "  <div id=\"df-439a246d-d238-40f0-a09c-87e83b3407f6\" class=\"colab-df-container\">\n",
              "    <div>\n",
              "<style scoped>\n",
              "    .dataframe tbody tr th:only-of-type {\n",
              "        vertical-align: middle;\n",
              "    }\n",
              "\n",
              "    .dataframe tbody tr th {\n",
              "        vertical-align: top;\n",
              "    }\n",
              "\n",
              "    .dataframe thead th {\n",
              "        text-align: right;\n",
              "    }\n",
              "</style>\n",
              "<table border=\"1\" class=\"dataframe\">\n",
              "  <thead>\n",
              "    <tr style=\"text-align: right;\">\n",
              "      <th></th>\n",
              "      <th>id</th>\n",
              "      <th>article</th>\n",
              "      <th>ean_13</th>\n",
              "      <th>name</th>\n",
              "      <th>cost</th>\n",
              "      <th>recommended_price</th>\n",
              "      <th>category_id</th>\n",
              "      <th>ozon_name</th>\n",
              "      <th>name_1c</th>\n",
              "      <th>wb_name</th>\n",
              "      <th>ozon_article</th>\n",
              "      <th>wb_article</th>\n",
              "      <th>ym_article</th>\n",
              "      <th>wb_article_td</th>\n",
              "    </tr>\n",
              "  </thead>\n",
              "  <tbody>\n",
              "    <tr>\n",
              "      <th>191</th>\n",
              "      <td>276</td>\n",
              "      <td>062-10</td>\n",
              "      <td>4680008148995.0</td>\n",
              "      <td>Антисептик ECO ULTRA, коричневый / 10 л</td>\n",
              "      <td>476.0</td>\n",
              "      <td>1136.0</td>\n",
              "      <td>20.0</td>\n",
              "      <td>Антисептик невымываемый PROSEPT ECO ULTRA, 10 л.</td>\n",
              "      <td>Антисептик ECO ULTRA, коричневый / 10 л</td>\n",
              "      <td>Антисептик невымываемый PROSEPT ECO ULTRA, 10 л.</td>\n",
              "      <td>253565305.0</td>\n",
              "      <td>150033477.0</td>\n",
              "      <td>062-10</td>\n",
              "      <td>unknown</td>\n",
              "    </tr>\n",
              "  </tbody>\n",
              "</table>\n",
              "</div>\n",
              "    <div class=\"colab-df-buttons\">\n",
              "\n",
              "  <div class=\"colab-df-container\">\n",
              "    <button class=\"colab-df-convert\" onclick=\"convertToInteractive('df-439a246d-d238-40f0-a09c-87e83b3407f6')\"\n",
              "            title=\"Convert this dataframe to an interactive table.\"\n",
              "            style=\"display:none;\">\n",
              "\n",
              "  <svg xmlns=\"http://www.w3.org/2000/svg\" height=\"24px\" viewBox=\"0 -960 960 960\">\n",
              "    <path d=\"M120-120v-720h720v720H120Zm60-500h600v-160H180v160Zm220 220h160v-160H400v160Zm0 220h160v-160H400v160ZM180-400h160v-160H180v160Zm440 0h160v-160H620v160ZM180-180h160v-160H180v160Zm440 0h160v-160H620v160Z\"/>\n",
              "  </svg>\n",
              "    </button>\n",
              "\n",
              "  <style>\n",
              "    .colab-df-container {\n",
              "      display:flex;\n",
              "      gap: 12px;\n",
              "    }\n",
              "\n",
              "    .colab-df-convert {\n",
              "      background-color: #E8F0FE;\n",
              "      border: none;\n",
              "      border-radius: 50%;\n",
              "      cursor: pointer;\n",
              "      display: none;\n",
              "      fill: #1967D2;\n",
              "      height: 32px;\n",
              "      padding: 0 0 0 0;\n",
              "      width: 32px;\n",
              "    }\n",
              "\n",
              "    .colab-df-convert:hover {\n",
              "      background-color: #E2EBFA;\n",
              "      box-shadow: 0px 1px 2px rgba(60, 64, 67, 0.3), 0px 1px 3px 1px rgba(60, 64, 67, 0.15);\n",
              "      fill: #174EA6;\n",
              "    }\n",
              "\n",
              "    .colab-df-buttons div {\n",
              "      margin-bottom: 4px;\n",
              "    }\n",
              "\n",
              "    [theme=dark] .colab-df-convert {\n",
              "      background-color: #3B4455;\n",
              "      fill: #D2E3FC;\n",
              "    }\n",
              "\n",
              "    [theme=dark] .colab-df-convert:hover {\n",
              "      background-color: #434B5C;\n",
              "      box-shadow: 0px 1px 3px 1px rgba(0, 0, 0, 0.15);\n",
              "      filter: drop-shadow(0px 1px 2px rgba(0, 0, 0, 0.3));\n",
              "      fill: #FFFFFF;\n",
              "    }\n",
              "  </style>\n",
              "\n",
              "    <script>\n",
              "      const buttonEl =\n",
              "        document.querySelector('#df-439a246d-d238-40f0-a09c-87e83b3407f6 button.colab-df-convert');\n",
              "      buttonEl.style.display =\n",
              "        google.colab.kernel.accessAllowed ? 'block' : 'none';\n",
              "\n",
              "      async function convertToInteractive(key) {\n",
              "        const element = document.querySelector('#df-439a246d-d238-40f0-a09c-87e83b3407f6');\n",
              "        const dataTable =\n",
              "          await google.colab.kernel.invokeFunction('convertToInteractive',\n",
              "                                                    [key], {});\n",
              "        if (!dataTable) return;\n",
              "\n",
              "        const docLinkHtml = 'Like what you see? Visit the ' +\n",
              "          '<a target=\"_blank\" href=https://colab.research.google.com/notebooks/data_table.ipynb>data table notebook</a>'\n",
              "          + ' to learn more about interactive tables.';\n",
              "        element.innerHTML = '';\n",
              "        dataTable['output_type'] = 'display_data';\n",
              "        await google.colab.output.renderOutput(dataTable, element);\n",
              "        const docLink = document.createElement('div');\n",
              "        docLink.innerHTML = docLinkHtml;\n",
              "        element.appendChild(docLink);\n",
              "      }\n",
              "    </script>\n",
              "  </div>\n",
              "\n",
              "    </div>\n",
              "  </div>\n"
            ],
            "application/vnd.google.colaboratory.intrinsic+json": {
              "type": "dataframe",
              "repr_error": "'str' object has no attribute 'empty'"
            }
          },
          "metadata": {},
          "execution_count": 92
        }
      ]
    },
    {
      "cell_type": "code",
      "source": [
        "# Рассчет точности с помощью accuracy_k\n",
        "accuracy_k(scores)"
      ],
      "metadata": {
        "colab": {
          "base_uri": "https://localhost:8080/"
        },
        "id": "acwGVTL1XWw4",
        "outputId": "943ac26c-483b-46f8-fc3c-e4bce7952cdc"
      },
      "execution_count": 93,
      "outputs": [
        {
          "output_type": "execute_result",
          "data": {
            "text/plain": [
              "0.87"
            ]
          },
          "metadata": {},
          "execution_count": 93
        }
      ]
    },
    {
      "cell_type": "code",
      "source": [
        "# Посмотри длину списка индексов, для которых не удалось найти соответствующий product_id\n",
        "len(empty_result)"
      ],
      "metadata": {
        "colab": {
          "base_uri": "https://localhost:8080/"
        },
        "id": "JM8lVVdgXqyU",
        "outputId": "9ad164db-7182-4cb6-9562-39c6de68d6bd"
      },
      "execution_count": 94,
      "outputs": [
        {
          "output_type": "execute_result",
          "data": {
            "text/plain": [
              "2849"
            ]
          },
          "metadata": {},
          "execution_count": 94
        }
      ]
    },
    {
      "cell_type": "code",
      "source": [
        "# Выборка product_key для строк с пустыми значениями\n",
        "empty_product_key = list(marketing_dealerprice.product_key.loc[empty_result])"
      ],
      "metadata": {
        "id": "p9ZCdh9GXyOr"
      },
      "execution_count": 95,
      "outputs": []
    },
    {
      "cell_type": "code",
      "source": [
        "# Фильтрация строк, где значение столбца 'key' содержится в списке empty_product_key\n",
        "marketing_productdealerkey[marketing_productdealerkey.key.apply(lambda x: x in empty_product_key)]"
      ],
      "metadata": {
        "colab": {
          "base_uri": "https://localhost:8080/",
          "height": 81
        },
        "id": "mjYi4hAFYH2D",
        "outputId": "b9074e65-c71d-430c-b1c5-499776c2ecaf"
      },
      "execution_count": 96,
      "outputs": [
        {
          "output_type": "execute_result",
          "data": {
            "text/plain": [
              "Empty DataFrame\n",
              "Columns: [key, dealer_id, product_id]\n",
              "Index: []"
            ],
            "text/html": [
              "\n",
              "  <div id=\"df-9b7d74a1-2aaa-4247-8b17-fd1fc7ab2923\" class=\"colab-df-container\">\n",
              "    <div>\n",
              "<style scoped>\n",
              "    .dataframe tbody tr th:only-of-type {\n",
              "        vertical-align: middle;\n",
              "    }\n",
              "\n",
              "    .dataframe tbody tr th {\n",
              "        vertical-align: top;\n",
              "    }\n",
              "\n",
              "    .dataframe thead th {\n",
              "        text-align: right;\n",
              "    }\n",
              "</style>\n",
              "<table border=\"1\" class=\"dataframe\">\n",
              "  <thead>\n",
              "    <tr style=\"text-align: right;\">\n",
              "      <th></th>\n",
              "      <th>key</th>\n",
              "      <th>dealer_id</th>\n",
              "      <th>product_id</th>\n",
              "    </tr>\n",
              "    <tr>\n",
              "      <th>id</th>\n",
              "      <th></th>\n",
              "      <th></th>\n",
              "      <th></th>\n",
              "    </tr>\n",
              "  </thead>\n",
              "  <tbody>\n",
              "  </tbody>\n",
              "</table>\n",
              "</div>\n",
              "    <div class=\"colab-df-buttons\">\n",
              "\n",
              "  <div class=\"colab-df-container\">\n",
              "    <button class=\"colab-df-convert\" onclick=\"convertToInteractive('df-9b7d74a1-2aaa-4247-8b17-fd1fc7ab2923')\"\n",
              "            title=\"Convert this dataframe to an interactive table.\"\n",
              "            style=\"display:none;\">\n",
              "\n",
              "  <svg xmlns=\"http://www.w3.org/2000/svg\" height=\"24px\" viewBox=\"0 -960 960 960\">\n",
              "    <path d=\"M120-120v-720h720v720H120Zm60-500h600v-160H180v160Zm220 220h160v-160H400v160Zm0 220h160v-160H400v160ZM180-400h160v-160H180v160Zm440 0h160v-160H620v160ZM180-180h160v-160H180v160Zm440 0h160v-160H620v160Z\"/>\n",
              "  </svg>\n",
              "    </button>\n",
              "\n",
              "  <style>\n",
              "    .colab-df-container {\n",
              "      display:flex;\n",
              "      gap: 12px;\n",
              "    }\n",
              "\n",
              "    .colab-df-convert {\n",
              "      background-color: #E8F0FE;\n",
              "      border: none;\n",
              "      border-radius: 50%;\n",
              "      cursor: pointer;\n",
              "      display: none;\n",
              "      fill: #1967D2;\n",
              "      height: 32px;\n",
              "      padding: 0 0 0 0;\n",
              "      width: 32px;\n",
              "    }\n",
              "\n",
              "    .colab-df-convert:hover {\n",
              "      background-color: #E2EBFA;\n",
              "      box-shadow: 0px 1px 2px rgba(60, 64, 67, 0.3), 0px 1px 3px 1px rgba(60, 64, 67, 0.15);\n",
              "      fill: #174EA6;\n",
              "    }\n",
              "\n",
              "    .colab-df-buttons div {\n",
              "      margin-bottom: 4px;\n",
              "    }\n",
              "\n",
              "    [theme=dark] .colab-df-convert {\n",
              "      background-color: #3B4455;\n",
              "      fill: #D2E3FC;\n",
              "    }\n",
              "\n",
              "    [theme=dark] .colab-df-convert:hover {\n",
              "      background-color: #434B5C;\n",
              "      box-shadow: 0px 1px 3px 1px rgba(0, 0, 0, 0.15);\n",
              "      filter: drop-shadow(0px 1px 2px rgba(0, 0, 0, 0.3));\n",
              "      fill: #FFFFFF;\n",
              "    }\n",
              "  </style>\n",
              "\n",
              "    <script>\n",
              "      const buttonEl =\n",
              "        document.querySelector('#df-9b7d74a1-2aaa-4247-8b17-fd1fc7ab2923 button.colab-df-convert');\n",
              "      buttonEl.style.display =\n",
              "        google.colab.kernel.accessAllowed ? 'block' : 'none';\n",
              "\n",
              "      async function convertToInteractive(key) {\n",
              "        const element = document.querySelector('#df-9b7d74a1-2aaa-4247-8b17-fd1fc7ab2923');\n",
              "        const dataTable =\n",
              "          await google.colab.kernel.invokeFunction('convertToInteractive',\n",
              "                                                    [key], {});\n",
              "        if (!dataTable) return;\n",
              "\n",
              "        const docLinkHtml = 'Like what you see? Visit the ' +\n",
              "          '<a target=\"_blank\" href=https://colab.research.google.com/notebooks/data_table.ipynb>data table notebook</a>'\n",
              "          + ' to learn more about interactive tables.';\n",
              "        element.innerHTML = '';\n",
              "        dataTable['output_type'] = 'display_data';\n",
              "        await google.colab.output.renderOutput(dataTable, element);\n",
              "        const docLink = document.createElement('div');\n",
              "        docLink.innerHTML = docLinkHtml;\n",
              "        element.appendChild(docLink);\n",
              "      }\n",
              "    </script>\n",
              "  </div>\n",
              "\n",
              "    </div>\n",
              "  </div>\n"
            ],
            "application/vnd.google.colaboratory.intrinsic+json": {
              "type": "dataframe",
              "repr_error": "'str' object has no attribute 'empty'"
            }
          },
          "metadata": {},
          "execution_count": 96
        }
      ]
    },
    {
      "cell_type": "code",
      "source": [
        "# Вызываем функцию recommendations_for_metric, чтобы получить рекомендации и оценку точности\n",
        "empty_result, false, scores = recommendations_for_metric(model, dealer_name, corpus_embeddings, k=7)"
      ],
      "metadata": {
        "colab": {
          "base_uri": "https://localhost:8080/"
        },
        "id": "Z29VsxgEZmrg",
        "outputId": "280845c8-79be-482c-f354-f5f77a8f8d15"
      },
      "execution_count": 97,
      "outputs": [
        {
          "output_type": "stream",
          "name": "stderr",
          "text": [
            "  3%|▎         | 513/20416 [01:08<44:43,  7.42it/s]<ipython-input-80-c9a29b773efa>:12: DeprecationWarning: The truth value of an empty array is ambiguous. Returning False, but in future this will result in an error. Use `array.size > 0` to check that an array is not empty.\n",
            "  if not true_id:\n",
            "100%|██████████| 20416/20416 [38:25<00:00,  8.85it/s]\n"
          ]
        }
      ]
    },
    {
      "cell_type": "code",
      "source": [
        "accuracy_k(scores)"
      ],
      "metadata": {
        "colab": {
          "base_uri": "https://localhost:8080/"
        },
        "id": "fwJf1BgTZ7Sw",
        "outputId": "ab884772-2650-4363-c2cf-49b151795b61"
      },
      "execution_count": 98,
      "outputs": [
        {
          "output_type": "execute_result",
          "data": {
            "text/plain": [
              "0.91"
            ]
          },
          "metadata": {},
          "execution_count": 98
        }
      ]
    },
    {
      "cell_type": "markdown",
      "source": [
        "## Faiss"
      ],
      "metadata": {
        "id": "jwaxhVsAaB-B"
      }
    },
    {
      "cell_type": "code",
      "source": [
        "# Функция get_recommendations_faiss для эффективного поиска наилучших соответствий векторов эмбеддингов\n",
        "def get_recommendations_faiss(model, corpus_embeddings, dealer_names, dealer_product_key, k=3) -> List[int]:\n",
        "\n",
        "    # Получение размерности вектора\n",
        "    vector_dimension = corpus_embeddings.shape[1]\n",
        "\n",
        "    # Создание Faiss индекса\n",
        "    index = faiss.IndexFlatL2(vector_dimension)\n",
        "\n",
        "    # Нормализация векторов в корпусе\n",
        "    faiss.normalize_L2(corpus_embeddings.numpy())\n",
        "\n",
        "    # Добавление векторов в индекс\n",
        "    index.add(corpus_embeddings)\n",
        "\n",
        "    # Получение эмбеддинга запроса и его нормализация\n",
        "    query = dealer_names[dealer_product_key]\n",
        "    query_embedding = model.encode(query, convert_to_tensor=True).numpy()\n",
        "    faiss.normalize_L2(query_embedding)\n",
        "\n",
        "    # Поиск наилучших результатов с использованием Faiss\n",
        "    top_results = index.search(query_embedding, k=k)\n",
        "\n",
        "    best_idx = []\n",
        "\n",
        "    for score, idx in zip(top_results[0], top_results[1]):\n",
        "        score = score.cpu().data.numpy()\n",
        "        idx = idx.cpu().data.numpy()\n",
        "        best_idx.append(idx)\n",
        "\n",
        "    return best_idx"
      ],
      "metadata": {
        "id": "BEu_ww7EZ-mJ"
      },
      "execution_count": 99,
      "outputs": []
    },
    {
      "cell_type": "code",
      "source": [
        "# Вызываем функцию recommendations_for_metric, чтобы получить рекомендации и оценку точности\n",
        "empty_result_faiss, false_faiss, scores_faiss = recommendations_for_metric(model, dealer_name, corpus_embeddings, k=5)\n",
        "\n",
        "\n",
        "\n",
        "\n",
        "\n"
      ],
      "metadata": {
        "colab": {
          "base_uri": "https://localhost:8080/"
        },
        "id": "AleDxurVa3Qt",
        "outputId": "1ca3a2bb-7406-4351-dd9c-0b5d0c93ecbb"
      },
      "execution_count": 100,
      "outputs": [
        {
          "output_type": "stream",
          "name": "stderr",
          "text": [
            "  3%|▎         | 513/20416 [01:08<37:45,  8.79it/s]<ipython-input-80-c9a29b773efa>:12: DeprecationWarning: The truth value of an empty array is ambiguous. Returning False, but in future this will result in an error. Use `array.size > 0` to check that an array is not empty.\n",
            "  if not true_id:\n",
            "100%|██████████| 20416/20416 [38:45<00:00,  8.78it/s]\n"
          ]
        }
      ]
    },
    {
      "cell_type": "code",
      "source": [
        "accuracy_k(scores_faiss)"
      ],
      "metadata": {
        "colab": {
          "base_uri": "https://localhost:8080/"
        },
        "id": "2BKtptv8bXIW",
        "outputId": "adafa798-2c9d-45a3-afd5-8f1ca1ed30b0"
      },
      "execution_count": 101,
      "outputs": [
        {
          "output_type": "execute_result",
          "data": {
            "text/plain": [
              "0.87"
            ]
          },
          "metadata": {},
          "execution_count": 101
        }
      ]
    },
    {
      "cell_type": "markdown",
      "source": [
        "## Feature engineering"
      ],
      "metadata": {
        "id": "knKLII0pb91j"
      }
    },
    {
      "cell_type": "markdown",
      "source": [
        "### product_corpus"
      ],
      "metadata": {
        "id": "Ywsi3C_aeXee"
      }
    },
    {
      "cell_type": "code",
      "source": [
        "product_name = marketing_product.name\n",
        "# нижний регистр\n",
        "product_name = product_name.apply(lambda x: x.lower())\n",
        "# убираем знаки препинания\n",
        "#product_name = product_name.apply(lambda x: re.sub('[%s]' % re.escape(string.punctuation + '«»–'), ' ', x))\n",
        "# разделяем латиницу и кириллицу\n",
        "product_name = product_name.apply(lambda x: ' '.join(re.split(r'([a-zA-Z]+|[a-zA-Z]+)', x)))\n",
        "# лишние пробелы\n",
        "product_name = product_name.apply(lambda x: ' '.join(x.split()))\n",
        "product_name = product_name.apply(lambda x: x.replace(' редство', ' средство').replace('c ', ''))"
      ],
      "metadata": {
        "id": "L9KvCx92bcT5"
      },
      "execution_count": 103,
      "outputs": []
    },
    {
      "cell_type": "code",
      "source": [
        "# Расширение списка стоп-слов\n",
        "stop_words.extend(['что', 'это', 'так',\n",
        "                   'вот', 'быть', 'как',\n",
        "                   'в', 'к', 'за', 'из', 'из-за', 'с',\n",
        "                   'на', 'ок', 'кстати',\n",
        "                   'который', 'мочь', 'весь',\n",
        "                   'еще', 'также', 'свой',\n",
        "                   'ещё', 'самый', 'ул', 'главные', 'играет', 'и', 'y', 'c', 'для', 'prosept', 'просепт', 'для',\n",
        "                   'средство', 'кг', 'г', 'мл', 'л', 'шт'])"
      ],
      "metadata": {
        "id": "0ka17YjBcUbf"
      },
      "execution_count": 104,
      "outputs": []
    },
    {
      "cell_type": "code",
      "source": [
        "product_name"
      ],
      "metadata": {
        "id": "2fzsva3Kcml1",
        "colab": {
          "base_uri": "https://localhost:8080/"
        },
        "outputId": "89c9454f-313a-4de4-988b-59e685cf2e96"
      },
      "execution_count": 105,
      "outputs": [
        {
          "output_type": "execute_result",
          "data": {
            "text/plain": [
              "0      антисептик невымываемый prosept ultra концентр...\n",
              "1        антигололед - 32 prosept готовый состав / 12 кг\n",
              "2               герметик акриловый цвет сосна, ф/п 600мл\n",
              "3      кондиционер для белья с ароматом королевского ...\n",
              "4                    герметик акриловой цвет белый, 7 кг\n",
              "                             ...                        \n",
              "491    средство для уборки помещений после пожара с д...\n",
              "492    жидкое моющее средство для стирки шерсти, шелк...\n",
              "493    средство для чистки гриля и духовых шкафов coo...\n",
              "494    средство для мытья полов с полимерным покрытие...\n",
              "495    средство усиленного действия для удаления ржав...\n",
              "Name: name, Length: 493, dtype: object"
            ]
          },
          "metadata": {},
          "execution_count": 105
        }
      ]
    },
    {
      "cell_type": "code",
      "source": [
        "# Извлечение информации о объеме или количестве продукта из наименования и преобразование в единый формат\n",
        "product_volume = product_name.apply(lambda x: (re.findall(r'\\s*\\d+\\s*(?:л|г|мл|кг|шт|штук)', x)))\n",
        "product_volume = product_volume.apply(lambda x: \"\".join(x).replace(\" \", \"\"))\n",
        "product_volume"
      ],
      "metadata": {
        "id": "40ezjT70coic",
        "colab": {
          "base_uri": "https://localhost:8080/"
        },
        "outputId": "2e3af498-87fd-4bc3-f003-9eab771bd66f"
      },
      "execution_count": 106,
      "outputs": [
        {
          "output_type": "execute_result",
          "data": {
            "text/plain": [
              "0         1л\n",
              "1       12кг\n",
              "2      600мл\n",
              "3         2л\n",
              "4        7кг\n",
              "       ...  \n",
              "491       5л\n",
              "492       1л\n",
              "493       5л\n",
              "494       5л\n",
              "495      75л\n",
              "Name: name, Length: 493, dtype: object"
            ]
          },
          "metadata": {},
          "execution_count": 106
        }
      ]
    },
    {
      "cell_type": "code",
      "source": [
        "# Функция remove_stopwords для удаления стоп-слова из текста\n",
        "def remove_stopwords(text):\n",
        "    text = ' '.join(word for word in text.split() if word not in stop_words)\n",
        "    return text\n",
        "\n",
        "\n",
        "product_name = product_name.apply(lambda x: remove_stopwords(x))\n",
        "product_name"
      ],
      "metadata": {
        "id": "SvKgkOzTdFz2",
        "colab": {
          "base_uri": "https://localhost:8080/"
        },
        "outputId": "592b5d07-b8ec-4982-9e97-9289f5865472"
      },
      "execution_count": 107,
      "outputs": [
        {
          "output_type": "execute_result",
          "data": {
            "text/plain": [
              "0      антисептик невымываемый ultra концентрат 1:10 / 1\n",
              "1                   антигололед - 32 готовый состав / 12\n",
              "2               герметик акриловый цвет сосна, ф/п 600мл\n",
              "3      кондиционер белья ароматом королевского ириса ...\n",
              "4                       герметик акриловой цвет белый, 7\n",
              "                             ...                        \n",
              "491    уборки помещений пожара дезинфицирующим эффект...\n",
              "492    жидкое моющее стирки шерсти, шелка деликатных ...\n",
              "493    чистки гриля духовых шкафов cooky grill gel ко...\n",
              "494    мытья полов полимерным покрытием multipower br...\n",
              "495    усиленного действия удаления ржавчины минераль...\n",
              "Name: name, Length: 493, dtype: object"
            ]
          },
          "metadata": {},
          "execution_count": 107
        }
      ]
    },
    {
      "cell_type": "code",
      "source": [
        "# Удаляем слова, содержащих цифры, в столбце product_name\n",
        "product_name = product_name.apply(lambda x: re.sub('\\w*\\d\\w*', '', x))\n",
        "product_name"
      ],
      "metadata": {
        "id": "VyolpD40dX7E",
        "colab": {
          "base_uri": "https://localhost:8080/"
        },
        "outputId": "6f97aacb-b46a-4c28-d71b-45361308e389"
      },
      "execution_count": 108,
      "outputs": [
        {
          "output_type": "execute_result",
          "data": {
            "text/plain": [
              "0          антисептик невымываемый ultra концентрат : / \n",
              "1                       антигололед -  готовый состав / \n",
              "2                    герметик акриловый цвет сосна, ф/п \n",
              "3      кондиционер белья ароматом королевского ириса ...\n",
              "4                        герметик акриловой цвет белый, \n",
              "                             ...                        \n",
              "491    уборки помещений пожара дезинфицирующим эффект...\n",
              "492    жидкое моющее стирки шерсти, шелка деликатных ...\n",
              "493    чистки гриля духовых шкафов cooky grill gel ко...\n",
              "494    мытья полов полимерным покрытием multipower br...\n",
              "495    усиленного действия удаления ржавчины минераль...\n",
              "Name: name, Length: 493, dtype: object"
            ]
          },
          "metadata": {},
          "execution_count": 108
        }
      ]
    },
    {
      "cell_type": "code",
      "source": [
        "# Удаляем лишние пробелы в каждом значении столбца product_name\n",
        "product_name = product_name.apply(lambda x: ' '.join(x.split()))\n",
        "product_name"
      ],
      "metadata": {
        "id": "x20ksjFudtCk",
        "colab": {
          "base_uri": "https://localhost:8080/"
        },
        "outputId": "659237f9-b5de-4905-fe9c-b71570106411"
      },
      "execution_count": 109,
      "outputs": [
        {
          "output_type": "execute_result",
          "data": {
            "text/plain": [
              "0           антисептик невымываемый ultra концентрат : /\n",
              "1                         антигололед - готовый состав /\n",
              "2                     герметик акриловый цвет сосна, ф/п\n",
              "3      кондиционер белья ароматом королевского ириса ...\n",
              "4                         герметик акриловой цвет белый,\n",
              "                             ...                        \n",
              "491    уборки помещений пожара дезинфицирующим эффект...\n",
              "492    жидкое моющее стирки шерсти, шелка деликатных ...\n",
              "493    чистки гриля духовых шкафов cooky grill gel ко...\n",
              "494    мытья полов полимерным покрытием multipower br...\n",
              "495    усиленного действия удаления ржавчины минераль...\n",
              "Name: name, Length: 493, dtype: object"
            ]
          },
          "metadata": {},
          "execution_count": 109
        }
      ]
    },
    {
      "cell_type": "code",
      "source": [
        "# Создание корпуса путем объединения названия продуктов и их объемы\n",
        "product_corpus = product_name + ' ' + product_volume\n",
        "product_corpus"
      ],
      "metadata": {
        "id": "29y8J6W6d6SO",
        "colab": {
          "base_uri": "https://localhost:8080/"
        },
        "outputId": "24c04799-303f-4e5f-acbd-03d44dbbc776"
      },
      "execution_count": 110,
      "outputs": [
        {
          "output_type": "execute_result",
          "data": {
            "text/plain": [
              "0        антисептик невымываемый ultra концентрат : / 1л\n",
              "1                    антигололед - готовый состав / 12кг\n",
              "2               герметик акриловый цвет сосна, ф/п 600мл\n",
              "3      кондиционер белья ароматом королевского ириса ...\n",
              "4                     герметик акриловой цвет белый, 7кг\n",
              "                             ...                        \n",
              "491    уборки помещений пожара дезинфицирующим эффект...\n",
              "492    жидкое моющее стирки шерсти, шелка деликатных ...\n",
              "493    чистки гриля духовых шкафов cooky grill gel ко...\n",
              "494    мытья полов полимерным покрытием multipower br...\n",
              "495    усиленного действия удаления ржавчины минераль...\n",
              "Name: name, Length: 493, dtype: object"
            ]
          },
          "metadata": {},
          "execution_count": 110
        }
      ]
    },
    {
      "cell_type": "markdown",
      "source": [
        "### dealer_corpus"
      ],
      "metadata": {
        "id": "8mO5hMQTeec2"
      }
    },
    {
      "cell_type": "code",
      "source": [
        "dealer_name = marketing_dealerprice.product_name\n",
        "# нижний регистр\n",
        "dealer_name = dealer_name.apply(lambda x: x.lower())\n",
        "# убираем знаки препинания\n",
        "#dealer_name = dealer_name.apply(lambda x: re.sub('[%s]' % re.escape(string.punctuation+'«»–'), '', x))\n",
        "dealer_name"
      ],
      "metadata": {
        "id": "KgDrF0BTeP6-",
        "colab": {
          "base_uri": "https://localhost:8080/"
        },
        "outputId": "1a9b81fb-7727-45c5-f571-5dc0c3007544"
      },
      "execution_count": 112,
      "outputs": [
        {
          "output_type": "execute_result",
          "data": {
            "text/plain": [
              "id\n",
              "2        средство универсальное prosept universal spray...\n",
              "3        концентрат prosept multipower для мытья полов,...\n",
              "4        средство для чистки люстр prosept universal an...\n",
              "5        удалитель ржавчины prosept rust remover 0,5л 0...\n",
              "6        средство моющее для бани и сауны prosept multi...\n",
              "                               ...                        \n",
              "20566    огнебиозащита для древесины prosept 2 группа, ...\n",
              "20567         антисептик многофункциональный фбс, гост 5 л\n",
              "20568         средство для удаления ржавчины prosept, 1 шт\n",
              "20569    герметик акриловый межшовный для деревянных ко...\n",
              "20570    краска-грунт фасадная для плит osb proff 3 в 1...\n",
              "Name: product_name, Length: 20416, dtype: object"
            ]
          },
          "metadata": {},
          "execution_count": 112
        }
      ]
    },
    {
      "cell_type": "code",
      "source": [
        "dealer_volume = dealer_name.apply(lambda x: (re.findall(r'\\s*\\d+\\s*(?:л|г|мл|кг|шт|штук)', x)))\n",
        "dealer_volume = dealer_volume.apply(lambda x: \"\".join(x).replace(\" \", \"\"))\n",
        "dealer_volume"
      ],
      "metadata": {
        "id": "OBOP9VAzelZL",
        "colab": {
          "base_uri": "https://localhost:8080/"
        },
        "outputId": "16865e20-d3ac-4dcb-b73c-446e1a5ebcb4"
      },
      "execution_count": 113,
      "outputs": [
        {
          "output_type": "execute_result",
          "data": {
            "text/plain": [
              "id\n",
              "2        500мл\n",
              "3           1л\n",
              "4        500мл\n",
              "5           5л\n",
              "6           1л\n",
              "         ...  \n",
              "20566    2г10л\n",
              "20567       5л\n",
              "20568      1шт\n",
              "20569      6кг\n",
              "20570      7кг\n",
              "Name: product_name, Length: 20416, dtype: object"
            ]
          },
          "metadata": {},
          "execution_count": 113
        }
      ]
    },
    {
      "cell_type": "code",
      "source": [
        "# создание new_df, который содержит только  строки, где длина строки в столбце dealer_name менее двух слов\n",
        "new_df = dealer_name[dealer_name.apply(lambda x: len(x.split()) < 2)]"
      ],
      "metadata": {
        "id": "qrmKCcHKew2N"
      },
      "execution_count": 114,
      "outputs": []
    },
    {
      "cell_type": "code",
      "source": [
        "# Применяем функцию только к нужным строкам\n",
        "for i in new_df.index:\n",
        "    string = dealer_name.loc[i]\n",
        "    dealer_name.loc[i] = infer_spaces(string)"
      ],
      "metadata": {
        "id": "R24q50sofE44"
      },
      "execution_count": 115,
      "outputs": []
    },
    {
      "cell_type": "code",
      "source": [
        "# Убираем лишние пробелы в каждом значении столбца dealer_name\n",
        "dealer_name = dealer_name.apply(lambda x: ' '.join(x.split()))\n",
        "# Применяем функцию remove_stopwords ко всем значениям в столбце dealer_name\n",
        "dealer_name = dealer_name.apply(lambda x: remove_stopwords(x))\n",
        "# Удаляем последовательности цифр, начинающиеся с пробела, из каждого значения в столбце dealer_name\n",
        "dealer_name = dealer_name.apply(lambda x: re.sub('\\w*\\d\\w*', '', x))\n",
        "# Убираем лишние пробелы в каждом значении столбца dealer_name\n",
        "dealer_name = dealer_name.apply(lambda x: ' '.join(x.split()))"
      ],
      "metadata": {
        "id": "cYCJECEsfLBj"
      },
      "execution_count": 116,
      "outputs": []
    },
    {
      "cell_type": "code",
      "source": [
        "# Объединение столбцов dealer_name и dealer_volume в новый столбец dealer_corpus\n",
        "dealer_corpus = dealer_name + ' ' + dealer_volume\n",
        "dealer_corpus"
      ],
      "metadata": {
        "id": "0a6WhoErfrat"
      },
      "execution_count": null,
      "outputs": []
    },
    {
      "cell_type": "code",
      "source": [
        "# Получаем новые векторные представления\n",
        "corpus_embeddings_new = model.encode(product_corpus.values, convert_to_tensor=True)"
      ],
      "metadata": {
        "id": "A4kYj_F5foD1"
      },
      "execution_count": 118,
      "outputs": []
    },
    {
      "cell_type": "code",
      "source": [
        "# Вызов функции recommendations_for_metric для оценки модели по метрике\n",
        "empty_result_newf, false_newf, scores_newf = recommendations_for_metric(model, dealer_corpus, corpus_embeddings_new, k=5)"
      ],
      "metadata": {
        "id": "0HUcrqbMf81_",
        "colab": {
          "base_uri": "https://localhost:8080/"
        },
        "outputId": "8f31dfc9-1d6e-459d-a7ec-55b7afbfb5c4"
      },
      "execution_count": 119,
      "outputs": [
        {
          "output_type": "stream",
          "name": "stderr",
          "text": [
            "  3%|▎         | 513/20416 [01:15<43:06,  7.70it/s]<ipython-input-80-c9a29b773efa>:12: DeprecationWarning: The truth value of an empty array is ambiguous. Returning False, but in future this will result in an error. Use `array.size > 0` to check that an array is not empty.\n",
            "  if not true_id:\n",
            "100%|██████████| 20416/20416 [41:35<00:00,  8.18it/s]\n"
          ]
        }
      ]
    },
    {
      "cell_type": "code",
      "source": [
        "accuracy_k(scores_newf)"
      ],
      "metadata": {
        "id": "4nJpFyKegOE2",
        "colab": {
          "base_uri": "https://localhost:8080/"
        },
        "outputId": "9e87c404-27e4-4706-b407-59f834ca3484"
      },
      "execution_count": 122,
      "outputs": [
        {
          "output_type": "execute_result",
          "data": {
            "text/plain": [
              "0.95"
            ]
          },
          "metadata": {},
          "execution_count": 122
        }
      ]
    },
    {
      "cell_type": "code",
      "source": [],
      "metadata": {
        "id": "5UysBzHLqe5x"
      },
      "execution_count": null,
      "outputs": []
    }
  ]
}